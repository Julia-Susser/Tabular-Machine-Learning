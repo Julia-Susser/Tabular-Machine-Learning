{
 "cells": [
  {
   "cell_type": "markdown",
   "metadata": {
    "papermill": {
     "duration": 0.01764,
     "end_time": "2021-03-03T16:57:10.864978",
     "exception": false,
     "start_time": "2021-03-03T16:57:10.847338",
     "status": "completed"
    },
    "tags": []
   },
   "source": [
    "## Tabular Playground Series March 2021\n",
    "\n",
    "<img src=\"https://i.imgur.com/uHVJtv0.png\">\n",
    "\n",
    "\n",
    "\n",
    "<br><br>\n",
    "\n",
    "### Notebook Contents:\n",
    "\n",
    "0. [**Imports, Data Loading and Preprocessing**](#loading)\n",
    "\n",
    "1. [**Optuna Hyperparameter Optimization**](#optuna)\n",
    "\n",
    "2. [**Submission**](#submission)"
   ]
  },
  {
   "cell_type": "code",
   "execution_count": 3,
   "metadata": {},
   "outputs": [
    {
     "name": "stdout",
     "output_type": "stream",
     "text": [
      "Collecting optuna\n",
      "  Downloading optuna-2.6.0-py3-none-any.whl (293 kB)\n",
      "\u001b[K     |████████████████████████████████| 293 kB 4.5 MB/s eta 0:00:01\n",
      "\u001b[?25hRequirement already satisfied: scipy!=1.4.0 in /Library/Frameworks/Python.framework/Versions/3.8/lib/python3.8/site-packages (from optuna) (1.6.1)\n",
      "Requirement already satisfied: tqdm in /Library/Frameworks/Python.framework/Versions/3.8/lib/python3.8/site-packages (from optuna) (4.56.0)\n",
      "Collecting cliff\n",
      "  Downloading cliff-3.7.0-py3-none-any.whl (80 kB)\n",
      "\u001b[K     |████████████████████████████████| 80 kB 10.7 MB/s eta 0:00:01\n",
      "\u001b[?25hCollecting alembic\n",
      "  Downloading alembic-1.5.7-py2.py3-none-any.whl (159 kB)\n",
      "\u001b[K     |████████████████████████████████| 159 kB 15.2 MB/s eta 0:00:01\n",
      "\u001b[?25hCollecting sqlalchemy>=1.1.0\n",
      "  Downloading SQLAlchemy-1.4.2-cp38-cp38-macosx_10_14_x86_64.whl (1.4 MB)\n",
      "\u001b[K     |████████████████████████████████| 1.4 MB 24.2 MB/s eta 0:00:01\n",
      "\u001b[?25hCollecting colorlog\n",
      "  Downloading colorlog-4.8.0-py2.py3-none-any.whl (10 kB)\n",
      "Requirement already satisfied: packaging>=20.0 in /Library/Frameworks/Python.framework/Versions/3.8/lib/python3.8/site-packages (from optuna) (20.4)\n",
      "Requirement already satisfied: numpy<1.20.0 in /Users/jsusser/Library/Python/3.8/lib/python/site-packages (from optuna) (1.18.5)\n",
      "Collecting cmaes>=0.8.2\n",
      "  Downloading cmaes-0.8.2-py3-none-any.whl (15 kB)\n",
      "Requirement already satisfied: six in /Library/Frameworks/Python.framework/Versions/3.8/lib/python3.8/site-packages (from packaging>=20.0->optuna) (1.15.0)\n",
      "Requirement already satisfied: pyparsing>=2.0.2 in /Library/Frameworks/Python.framework/Versions/3.8/lib/python3.8/site-packages (from packaging>=20.0->optuna) (2.4.7)\n",
      "Collecting greenlet!=0.4.17\n",
      "  Downloading greenlet-1.0.0-cp38-cp38-macosx_10_14_x86_64.whl (86 kB)\n",
      "\u001b[K     |████████████████████████████████| 86 kB 9.6 MB/s  eta 0:00:01\n",
      "\u001b[?25hRequirement already satisfied: python-dateutil in /Library/Frameworks/Python.framework/Versions/3.8/lib/python3.8/site-packages (from alembic->optuna) (2.8.1)\n",
      "Collecting Mako\n",
      "  Downloading Mako-1.1.4-py2.py3-none-any.whl (75 kB)\n",
      "\u001b[K     |████████████████████████████████| 75 kB 6.4 MB/s eta 0:00:01\n",
      "\u001b[?25hCollecting python-editor>=0.3\n",
      "  Downloading python_editor-1.0.4-py3-none-any.whl (4.9 kB)\n",
      "Collecting stevedore>=2.0.1\n",
      "  Downloading stevedore-3.3.0-py3-none-any.whl (49 kB)\n",
      "\u001b[K     |████████████████████████████████| 49 kB 14.4 MB/s eta 0:00:01\n",
      "\u001b[?25hCollecting pbr!=2.1.0,>=2.0.0\n",
      "  Using cached pbr-5.5.1-py2.py3-none-any.whl (106 kB)\n",
      "Collecting PrettyTable>=0.7.2\n",
      "  Downloading prettytable-2.1.0-py3-none-any.whl (22 kB)\n",
      "Requirement already satisfied: PyYAML>=3.12 in /Library/Frameworks/Python.framework/Versions/3.8/lib/python3.8/site-packages (from cliff->optuna) (5.3.1)\n",
      "Collecting cmd2>=1.0.0\n",
      "  Downloading cmd2-1.5.0-py3-none-any.whl (133 kB)\n",
      "\u001b[K     |████████████████████████████████| 133 kB 19.4 MB/s eta 0:00:01\n",
      "\u001b[?25hCollecting pyperclip>=1.6\n",
      "  Downloading pyperclip-1.8.2.tar.gz (20 kB)\n",
      "Requirement already satisfied: wcwidth>=0.1.7 in /Library/Frameworks/Python.framework/Versions/3.8/lib/python3.8/site-packages (from cmd2>=1.0.0->cliff->optuna) (0.2.5)\n",
      "Requirement already satisfied: attrs>=16.3.0 in /Library/Frameworks/Python.framework/Versions/3.8/lib/python3.8/site-packages (from cmd2>=1.0.0->cliff->optuna) (20.2.0)\n",
      "Collecting colorama>=0.3.7\n",
      "  Downloading colorama-0.4.4-py2.py3-none-any.whl (16 kB)\n",
      "Requirement already satisfied: MarkupSafe>=0.9.2 in /Library/Frameworks/Python.framework/Versions/3.8/lib/python3.8/site-packages (from Mako->alembic->optuna) (1.1.1)\n",
      "Building wheels for collected packages: pyperclip\n",
      "  Building wheel for pyperclip (setup.py) ... \u001b[?25ldone\n",
      "\u001b[?25h  Created wheel for pyperclip: filename=pyperclip-1.8.2-py3-none-any.whl size=11107 sha256=195de666d711b65cd8d7466b7c46021178a63f2626c887c8b59cce1752cd418f\n",
      "  Stored in directory: /Users/jsusser/Library/Caches/pip/wheels/7f/1a/65/84ff8c386bec21fca6d220ea1f5498a0367883a78dd5ba6122\n",
      "Successfully built pyperclip\n",
      "Installing collected packages: pyperclip, pbr, greenlet, colorama, stevedore, sqlalchemy, python-editor, PrettyTable, Mako, cmd2, colorlog, cmaes, cliff, alembic, optuna\n",
      "Successfully installed Mako-1.1.4 PrettyTable-2.1.0 alembic-1.5.7 cliff-3.7.0 cmaes-0.8.2 cmd2-1.5.0 colorama-0.4.4 colorlog-4.8.0 greenlet-1.0.0 optuna-2.6.0 pbr-5.5.1 pyperclip-1.8.2 python-editor-1.0.4 sqlalchemy-1.4.2 stevedore-3.3.0\n",
      "Note: you may need to restart the kernel to use updated packages.\n"
     ]
    }
   ],
   "source": [
    "pip install optuna"
   ]
  },
  {
   "cell_type": "markdown",
   "metadata": {
    "papermill": {
     "duration": 0.013422,
     "end_time": "2021-03-03T16:57:10.892392",
     "exception": false,
     "start_time": "2021-03-03T16:57:10.878970",
     "status": "completed"
    },
    "tags": []
   },
   "source": [
    "<a id=\"loading\"></a>\n",
    "\n",
    "##### 0. Imports, Data Loading and Preprocessing"
   ]
  },
  {
   "cell_type": "code",
   "execution_count": 9,
   "metadata": {
    "_cell_guid": "b1076dfc-b9ad-4769-8c92-a6c4dae69d19",
    "_uuid": "8f2839f25d086af736a60e9eeb907d3b93b6e0e5",
    "execution": {
     "iopub.execute_input": "2021-03-03T16:57:10.927796Z",
     "iopub.status.busy": "2021-03-03T16:57:10.926905Z",
     "iopub.status.idle": "2021-03-03T16:57:13.541126Z",
     "shell.execute_reply": "2021-03-03T16:57:13.540324Z"
    },
    "papermill": {
     "duration": 2.635156,
     "end_time": "2021-03-03T16:57:13.541322",
     "exception": false,
     "start_time": "2021-03-03T16:57:10.906166",
     "status": "completed"
    },
    "tags": []
   },
   "outputs": [],
   "source": [
    "import numpy as np\n",
    "import pandas as pd\n",
    "pd.options.display.max_columns = 100\n",
    "from lightgbm import LGBMClassifier\n",
    "from sklearn.model_selection import StratifiedKFold\n",
    "from sklearn.metrics import roc_auc_score\n",
    "from sklearn.preprocessing import QuantileTransformer, StandardScaler\n",
    "from sklearn.feature_selection import VarianceThreshold, SelectKBest\n",
    "import warnings\n",
    "warnings.filterwarnings('ignore')\n",
    "import optuna\n",
    "import os\n",
    "root_path = '../../input'"
   ]
  },
  {
   "cell_type": "code",
   "execution_count": 10,
   "metadata": {
    "execution": {
     "iopub.execute_input": "2021-03-03T16:57:13.586612Z",
     "iopub.status.busy": "2021-03-03T16:57:13.585892Z",
     "iopub.status.idle": "2021-03-03T16:57:17.872624Z",
     "shell.execute_reply": "2021-03-03T16:57:17.871954Z"
    },
    "papermill": {
     "duration": 4.309065,
     "end_time": "2021-03-03T16:57:17.872765",
     "exception": false,
     "start_time": "2021-03-03T16:57:13.563700",
     "status": "completed"
    },
    "tags": []
   },
   "outputs": [],
   "source": [
    "train = pd.read_csv(os.path.join(root_path, 'train.csv'))\n",
    "test = pd.read_csv(os.path.join(root_path, 'test.csv'))\n",
    "sample_submission = pd.read_csv(os.path.join(root_path, 'sample_submission.csv'))\n",
    "\n",
    "categorical_cols = [i for i in train.columns if 'cat' in i]\n",
    "\n",
    "dataset = pd.concat([train, test], axis = 0, ignore_index = True)\n",
    "train_len = len(train)"
   ]
  },
  {
   "cell_type": "code",
   "execution_count": 11,
   "metadata": {
    "execution": {
     "iopub.execute_input": "2021-03-03T16:57:17.908572Z",
     "iopub.status.busy": "2021-03-03T16:57:17.907655Z",
     "iopub.status.idle": "2021-03-03T16:57:17.945267Z",
     "shell.execute_reply": "2021-03-03T16:57:17.944475Z"
    },
    "papermill": {
     "duration": 0.058787,
     "end_time": "2021-03-03T16:57:17.945411",
     "exception": false,
     "start_time": "2021-03-03T16:57:17.886624",
     "status": "completed"
    },
    "tags": []
   },
   "outputs": [],
   "source": [
    "float_cols = list(set(dataset.select_dtypes(['float']).columns.tolist()) - set(['target']))"
   ]
  },
  {
   "cell_type": "code",
   "execution_count": 12,
   "metadata": {
    "execution": {
     "iopub.execute_input": "2021-03-03T16:57:17.979974Z",
     "iopub.status.busy": "2021-03-03T16:57:17.979328Z",
     "iopub.status.idle": "2021-03-03T16:57:19.780620Z",
     "shell.execute_reply": "2021-03-03T16:57:19.780054Z"
    },
    "papermill": {
     "duration": 1.821285,
     "end_time": "2021-03-03T16:57:19.780770",
     "exception": false,
     "start_time": "2021-03-03T16:57:17.959485",
     "status": "completed"
    },
    "tags": []
   },
   "outputs": [],
   "source": [
    "for col in float_cols:\n",
    "    transformer = QuantileTransformer(n_quantiles=100, \n",
    "                                      random_state=0, output_distribution=\"normal\")   # from optimal commit 9\n",
    "    data_len = len(dataset)\n",
    "    raw_vec = dataset[col].values.reshape(data_len, 1)\n",
    "    transformer.fit(raw_vec)\n",
    "    dataset[col+\"_qt\"] = transformer.transform(raw_vec)"
   ]
  },
  {
   "cell_type": "code",
   "execution_count": 13,
   "metadata": {
    "execution": {
     "iopub.execute_input": "2021-03-03T16:57:19.817251Z",
     "iopub.status.busy": "2021-03-03T16:57:19.816365Z",
     "iopub.status.idle": "2021-03-03T16:57:22.777356Z",
     "shell.execute_reply": "2021-03-03T16:57:22.776557Z"
    },
    "papermill": {
     "duration": 2.982368,
     "end_time": "2021-03-03T16:57:22.777532",
     "exception": false,
     "start_time": "2021-03-03T16:57:19.795164",
     "status": "completed"
    },
    "tags": []
   },
   "outputs": [],
   "source": [
    "dataset = pd.get_dummies(dataset, columns = categorical_cols)\n",
    "train_preprocessed = dataset.iloc[:train_len, ]\n",
    "test_preprocessed = dataset.iloc[train_len:, ]\n",
    "\n",
    "test_cols_always_0 = (test_preprocessed.drop('target',1).sum(axis = 0)\n",
    "                      .rename(\"n_non_null\").to_frame().query(\"n_non_null == 0\").index.tolist())\n",
    "\n",
    "features = list(set(train_preprocessed.drop(['id', 'target'], 1).columns.tolist()) - set(test_cols_always_0))\n",
    "\n",
    "assert train_preprocessed.shape[1] == test_preprocessed.shape[1]"
   ]
  },
  {
   "cell_type": "markdown",
   "metadata": {
    "papermill": {
     "duration": 0.021403,
     "end_time": "2021-03-03T16:57:22.820398",
     "exception": false,
     "start_time": "2021-03-03T16:57:22.798995",
     "status": "completed"
    },
    "tags": []
   },
   "source": [
    "**Disclaimer:** \n",
    "\n",
    "I did not inspect whether some of the categorical columns in train have values not present in test or viceversa. A simple solution would be to drop them in train if you knew it beforehand."
   ]
  },
  {
   "cell_type": "markdown",
   "metadata": {
    "papermill": {
     "duration": 0.020941,
     "end_time": "2021-03-03T16:57:22.862927",
     "exception": false,
     "start_time": "2021-03-03T16:57:22.841986",
     "status": "completed"
    },
    "tags": []
   },
   "source": [
    "<a id=\"optuna\"></a>\n",
    "\n",
    "### Optuna\n",
    "\n",
    "Look [here](https://optuna.readthedocs.io/en/stable/tutorial/) for reference about Optuna library. \n",
    "\n",
    "Look [here](https://lightgbm.readthedocs.io/en/latest/pythonapi/lightgbm.LGBMClassifier.html) for a set of Lightgbm Classifier hyperparameters.\n",
    "\n",
    "\n",
    "Skip and go [here](#hyperparams) to find my best parameters."
   ]
  },
  {
   "cell_type": "code",
   "execution_count": 14,
   "metadata": {
    "execution": {
     "iopub.execute_input": "2021-03-03T16:57:22.912085Z",
     "iopub.status.busy": "2021-03-03T16:57:22.911122Z",
     "iopub.status.idle": "2021-03-03T16:57:22.916066Z",
     "shell.execute_reply": "2021-03-03T16:57:22.915195Z"
    },
    "papermill": {
     "duration": 0.031899,
     "end_time": "2021-03-03T16:57:22.916245",
     "exception": false,
     "start_time": "2021-03-03T16:57:22.884346",
     "status": "completed"
    },
    "tags": []
   },
   "outputs": [],
   "source": [
    "#Set to False if you want to skip it\n",
    "\n",
    "OPTUNA_OPTIMIZATION = True"
   ]
  },
  {
   "cell_type": "code",
   "execution_count": 15,
   "metadata": {
    "execution": {
     "iopub.execute_input": "2021-03-03T16:57:22.966249Z",
     "iopub.status.busy": "2021-03-03T16:57:22.965398Z",
     "iopub.status.idle": "2021-03-03T16:57:22.969225Z",
     "shell.execute_reply": "2021-03-03T16:57:22.969842Z"
    },
    "papermill": {
     "duration": 0.029437,
     "end_time": "2021-03-03T16:57:22.970077",
     "exception": false,
     "start_time": "2021-03-03T16:57:22.940640",
     "status": "completed"
    },
    "tags": []
   },
   "outputs": [],
   "source": [
    "N_SPLITS = 10 #Number of folds for validation\n",
    "N_TRIALS = 50 #Number of trials to find best hyperparameters"
   ]
  },
  {
   "cell_type": "code",
   "execution_count": 16,
   "metadata": {
    "execution": {
     "iopub.execute_input": "2021-03-03T16:57:23.026668Z",
     "iopub.status.busy": "2021-03-03T16:57:23.017572Z",
     "iopub.status.idle": "2021-03-03T16:57:23.030826Z",
     "shell.execute_reply": "2021-03-03T16:57:23.029919Z"
    },
    "papermill": {
     "duration": 0.039058,
     "end_time": "2021-03-03T16:57:23.031001",
     "exception": false,
     "start_time": "2021-03-03T16:57:22.991943",
     "status": "completed"
    },
    "tags": []
   },
   "outputs": [],
   "source": [
    "def objective(trial, cv=StratifiedKFold(N_SPLITS, shuffle = True, random_state = 29)):\n",
    "    \n",
    "    \n",
    "    param_lgb = {\n",
    "        \"random_state\": trial.suggest_int(\"random_state\", 1, 100),\n",
    "        \"objective\": \"binary\",\n",
    "        \"metric\": \"binary_logloss\",\n",
    "        \"verbosity\": -1,\n",
    "        \"boosting_type\": \"gbdt\",\n",
    "        \"reg_alpha\": trial.suggest_float(\"reg_alpha\", 1e-8, 10.0, log=True),\n",
    "        \"reg_lambda\": trial.suggest_float(\"reg_lambda\", 1e-8, 10.0, log=True),\n",
    "        \"max_depth\": trial.suggest_int(\"max_depth\", -1, 10),\n",
    "        \"n_estimators\": trial.suggest_int(\"n_estimators\", 50, 500),\n",
    "        \"num_leaves\": trial.suggest_int(\"num_leaves\", 2, 256),\n",
    "        \"colsample_bytree\": trial.suggest_float(\"colsample_bytree\", 0.4, 1.0),\n",
    "        \"subsample\": trial.suggest_float(\"subsample\", 0.4, 1.0),\n",
    "        \"subsample_freq\": trial.suggest_int(\"subsample_freq\", 1, 7),\n",
    "        \"min_child_samples\": trial.suggest_int(\"min_child_samples\", 5, 100),\n",
    "    }\n",
    "    \n",
    "    model = LGBMClassifier(**param_lgb)\n",
    "    \n",
    "    val_aucs = []\n",
    "    aucs = []\n",
    "    \n",
    "    for kfold, (train_idx, val_idx) in enumerate(cv.split(train_preprocessed[features].values, train['target'].values)):\n",
    "        \n",
    "        model.fit(train_preprocessed.loc[train_idx, features], train_preprocessed.loc[train_idx, 'target'])\n",
    "        print('Fitted {}'.format(type(model).__name__))\n",
    "        val_true = train.loc[val_idx, 'target'].values\n",
    "        \n",
    "        preds = model.predict(train_preprocessed.loc[val_idx, features])\n",
    "        \n",
    "        auc = roc_auc_score(val_true, preds)\n",
    "        \n",
    "        print('Fold: {}\\t AUC: {}\\n'.format(kfold, auc))\n",
    "        aucs.append(auc)\n",
    "    \n",
    "    print('Average AUC: {}'.format(np.average(auc)))\n",
    "    return np.average(aucs)"
   ]
  },
  {
   "cell_type": "code",
   "execution_count": null,
   "metadata": {
    "_kg_hide-output": true,
    "execution": {
     "iopub.execute_input": "2021-03-03T16:57:23.078659Z",
     "iopub.status.busy": "2021-03-03T16:57:23.077585Z",
     "iopub.status.idle": "2021-03-03T22:06:15.739095Z",
     "shell.execute_reply": "2021-03-03T22:06:15.737652Z"
    },
    "papermill": {
     "duration": 18532.688376,
     "end_time": "2021-03-03T22:06:15.739233",
     "exception": false,
     "start_time": "2021-03-03T16:57:23.050857",
     "status": "completed"
    },
    "tags": []
   },
   "outputs": [
    {
     "name": "stderr",
     "output_type": "stream",
     "text": [
      "\u001b[32m[I 2021-03-22 14:02:51,857]\u001b[0m A new study created in memory with name: lgbm_parameter_opt\u001b[0m\n"
     ]
    }
   ],
   "source": [
    "if OPTUNA_OPTIMIZATION:\n",
    "    study = optuna.create_study(study_name = 'lgbm_parameter_opt', direction=\"maximize\")\n",
    "    study.optimize(objective, n_trials=N_TRIALS) \n",
    "    \n",
    "    trial = study.best_trial\n",
    "    \n",
    "    print(\"  Value: {}\".format(trial.value))\n",
    "    \n",
    "    print(\"  Params: \")\n",
    "    for key, value in trial.params.items():\n",
    "        print(\"    {}: {}\".format(key, value))\n",
    "else:\n",
    "    trial = {\"reg_alpha\": 0.362136938773081,\n",
    "             \"reg_lambda\": 2.930297242488071,\n",
    "             \"max_depth\": 10,\n",
    "             \"n_estimators\": 306,\n",
    "             \"num_leaves\": 71,\n",
    "             \"colsample_bytree\": 0.7121396258381646,\n",
    "             \"subsample\": 0.793959734582999,\n",
    "             \"subsample_freq\": 2,\n",
    "             \"min_child_samples\": 18}"
   ]
  },
  {
   "cell_type": "markdown",
   "metadata": {
    "papermill": {
     "duration": 0.357342,
     "end_time": "2021-03-03T22:06:16.451709",
     "exception": false,
     "start_time": "2021-03-03T22:06:16.094367",
     "status": "completed"
    },
    "tags": []
   },
   "source": [
    "Best Params: \n",
    "    \n",
    "    reg_alpha: 0.362136938773081\n",
    "    reg_lambda: 2.930297242488071\n",
    "    max_depth: 10\n",
    "    n_estimators: 306\n",
    "    num_leaves: 71\n",
    "    colsample_bytree: 0.7121396258381646\n",
    "    subsample: 0.793959734582999\n",
    "    subsample_freq: 2\n",
    "    min_child_samples: 18"
   ]
  },
  {
   "cell_type": "code",
   "execution_count": 10,
   "metadata": {
    "execution": {
     "iopub.execute_input": "2021-03-03T22:06:17.090233Z",
     "iopub.status.busy": "2021-03-03T22:06:17.089360Z",
     "iopub.status.idle": "2021-03-03T22:06:17.092546Z",
     "shell.execute_reply": "2021-03-03T22:06:17.091886Z"
    },
    "papermill": {
     "duration": 0.359068,
     "end_time": "2021-03-03T22:06:17.092685",
     "exception": false,
     "start_time": "2021-03-03T22:06:16.733617",
     "status": "completed"
    },
    "tags": []
   },
   "outputs": [],
   "source": [
    "if OPTUNA_OPTIMIZATION:\n",
    "    final_model = LGBMClassifier(**trial.params)\n",
    "else:\n",
    "    final_model = LGBMClassifier(**trial)"
   ]
  },
  {
   "cell_type": "code",
   "execution_count": 11,
   "metadata": {
    "execution": {
     "iopub.execute_input": "2021-03-03T22:06:17.886894Z",
     "iopub.status.busy": "2021-03-03T22:06:17.886231Z",
     "iopub.status.idle": "2021-03-03T22:14:45.822869Z",
     "shell.execute_reply": "2021-03-03T22:14:45.822293Z"
    },
    "papermill": {
     "duration": 508.307174,
     "end_time": "2021-03-03T22:14:45.823041",
     "exception": false,
     "start_time": "2021-03-03T22:06:17.515867",
     "status": "completed"
    },
    "tags": []
   },
   "outputs": [
    {
     "name": "stdout",
     "output_type": "stream",
     "text": [
      "Fitted LGBMClassifier\n",
      "Fold: 0\t Validation AUC: 0.7813630335680872\n",
      "\n",
      "Fitted LGBMClassifier\n",
      "Fold: 1\t Validation AUC: 0.7797455076230869\n",
      "\n",
      "Fitted LGBMClassifier\n",
      "Fold: 2\t Validation AUC: 0.7801258351038276\n",
      "\n",
      "Fitted LGBMClassifier\n",
      "Fold: 3\t Validation AUC: 0.7765705729142831\n",
      "\n",
      "Fitted LGBMClassifier\n",
      "Fold: 4\t Validation AUC: 0.7798306360624886\n",
      "\n",
      "Fitted LGBMClassifier\n",
      "Fold: 5\t Validation AUC: 0.7797695544955657\n",
      "\n",
      "Fitted LGBMClassifier\n",
      "Fold: 6\t Validation AUC: 0.778813192002396\n",
      "\n",
      "Fitted LGBMClassifier\n",
      "Fold: 7\t Validation AUC: 0.7770425227454083\n",
      "\n",
      "Fitted LGBMClassifier\n",
      "Fold: 8\t Validation AUC: 0.7792939183142692\n",
      "\n",
      "Fitted LGBMClassifier\n",
      "Fold: 9\t Validation AUC: 0.7769395743604536\n",
      "\n",
      "Best Parameters mean AUC: 0.7789494347189867\n"
     ]
    }
   ],
   "source": [
    "test_preds = []\n",
    "\n",
    "skf = StratifiedKFold(N_SPLITS, shuffle = True, random_state = 29)\n",
    "aucs = []\n",
    "for kfold, (train_idx, val_idx) in enumerate(skf.split(train_preprocessed[features].values, \n",
    "                                                      train_preprocessed['target'].values)):\n",
    "        \n",
    "        final_model.fit(train_preprocessed.loc[train_idx, features], train_preprocessed.loc[train_idx, 'target'])\n",
    "        print('Fitted {}'.format(type(final_model).__name__))\n",
    "        val_true = train.loc[val_idx, 'target'].values\n",
    "        \n",
    "        preds = final_model.predict(train_preprocessed.loc[val_idx, features])\n",
    "        \n",
    "        auc = roc_auc_score(val_true, preds)\n",
    "        aucs.append(auc)\n",
    "        print('Fold: {}\\t Validation AUC: {}\\n'.format(kfold, auc))\n",
    "        \n",
    "        test_preds.append(final_model.predict_proba(test_preprocessed[features])[:, 1])\n",
    "        \n",
    "print(\"Best Parameters mean AUC: {}\".format(np.mean(aucs)))"
   ]
  },
  {
   "cell_type": "markdown",
   "metadata": {
    "papermill": {
     "duration": 0.297369,
     "end_time": "2021-03-03T22:14:46.489026",
     "exception": false,
     "start_time": "2021-03-03T22:14:46.191657",
     "status": "completed"
    },
    "tags": []
   },
   "source": [
    "<a id = \"submission\"></a>\n",
    "\n",
    "### Submission"
   ]
  },
  {
   "cell_type": "code",
   "execution_count": 12,
   "metadata": {
    "execution": {
     "iopub.execute_input": "2021-03-03T22:14:47.104724Z",
     "iopub.status.busy": "2021-03-03T22:14:47.104086Z",
     "iopub.status.idle": "2021-03-03T22:14:47.113488Z",
     "shell.execute_reply": "2021-03-03T22:14:47.112917Z"
    },
    "papermill": {
     "duration": 0.365254,
     "end_time": "2021-03-03T22:14:47.113626",
     "exception": false,
     "start_time": "2021-03-03T22:14:46.748372",
     "status": "completed"
    },
    "tags": []
   },
   "outputs": [],
   "source": [
    "test_predictions = np.mean(test_preds, axis = 0)"
   ]
  },
  {
   "cell_type": "code",
   "execution_count": 13,
   "metadata": {
    "execution": {
     "iopub.execute_input": "2021-03-03T22:14:47.852703Z",
     "iopub.status.busy": "2021-03-03T22:14:47.851925Z",
     "iopub.status.idle": "2021-03-03T22:14:47.856348Z",
     "shell.execute_reply": "2021-03-03T22:14:47.857067Z"
    },
    "papermill": {
     "duration": 0.376951,
     "end_time": "2021-03-03T22:14:47.857295",
     "exception": false,
     "start_time": "2021-03-03T22:14:47.480344",
     "status": "completed"
    },
    "tags": []
   },
   "outputs": [
    {
     "data": {
      "text/plain": [
       "True"
      ]
     },
     "execution_count": 13,
     "metadata": {},
     "output_type": "execute_result"
    }
   ],
   "source": [
    "len(test_predictions) == len(test)"
   ]
  },
  {
   "cell_type": "code",
   "execution_count": 14,
   "metadata": {
    "execution": {
     "iopub.execute_input": "2021-03-03T22:14:48.996342Z",
     "iopub.status.busy": "2021-03-03T22:14:48.995507Z",
     "iopub.status.idle": "2021-03-03T22:14:49.553414Z",
     "shell.execute_reply": "2021-03-03T22:14:49.552260Z"
    },
    "papermill": {
     "duration": 1.129037,
     "end_time": "2021-03-03T22:14:49.553661",
     "exception": false,
     "start_time": "2021-03-03T22:14:48.424624",
     "status": "completed"
    },
    "tags": []
   },
   "outputs": [],
   "source": [
    "sample_submission['target'] = test_predictions\n",
    "\n",
    "sample_submission.to_csv(\"submission.csv\", index = False)"
   ]
  },
  {
   "cell_type": "code",
   "execution_count": null,
   "metadata": {
    "papermill": {
     "duration": 0.5664,
     "end_time": "2021-03-03T22:14:50.680618",
     "exception": false,
     "start_time": "2021-03-03T22:14:50.114218",
     "status": "completed"
    },
    "tags": []
   },
   "outputs": [],
   "source": []
  }
 ],
 "metadata": {
  "kernelspec": {
   "display_name": "Python 3",
   "language": "python",
   "name": "python3"
  },
  "language_info": {
   "codemirror_mode": {
    "name": "ipython",
    "version": 3
   },
   "file_extension": ".py",
   "mimetype": "text/x-python",
   "name": "python",
   "nbconvert_exporter": "python",
   "pygments_lexer": "ipython3",
   "version": "3.8.4"
  },
  "papermill": {
   "default_parameters": {},
   "duration": 19067.684192,
   "end_time": "2021-03-03T22:14:51.964054",
   "environment_variables": {},
   "exception": null,
   "input_path": "__notebook__.ipynb",
   "output_path": "__notebook__.ipynb",
   "parameters": {},
   "start_time": "2021-03-03T16:57:04.279862",
   "version": "2.2.2"
  }
 },
 "nbformat": 4,
 "nbformat_minor": 4
}
