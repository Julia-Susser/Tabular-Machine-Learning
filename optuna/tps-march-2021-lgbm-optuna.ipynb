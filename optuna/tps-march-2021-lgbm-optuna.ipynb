{
 "cells": [
  {
   "cell_type": "markdown",
   "metadata": {
    "papermill": {
     "duration": 0.01764,
     "end_time": "2021-03-03T16:57:10.864978",
     "exception": false,
     "start_time": "2021-03-03T16:57:10.847338",
     "status": "completed"
    },
    "tags": []
   },
   "source": [
    "## Tabular Playground Series March 2021\n",
    "\n",
    "<img src=\"https://i.imgur.com/uHVJtv0.png\">\n",
    "\n",
    "\n",
    "\n",
    "<br><br>\n",
    "\n",
    "### Notebook Contents:\n",
    "\n",
    "0. [**Imports, Data Loading and Preprocessing**](#loading)\n",
    "\n",
    "1. [**Optuna Hyperparameter Optimization**](#optuna)\n",
    "\n",
    "2. [**Submission**](#submission)"
   ]
  },
  {
   "cell_type": "code",
   "execution_count": 3,
   "metadata": {},
   "outputs": [
    {
     "name": "stdout",
     "output_type": "stream",
     "text": [
      "Collecting optuna\n",
      "  Downloading optuna-2.6.0-py3-none-any.whl (293 kB)\n",
      "\u001b[K     |████████████████████████████████| 293 kB 4.5 MB/s eta 0:00:01\n",
      "\u001b[?25hRequirement already satisfied: scipy!=1.4.0 in /Library/Frameworks/Python.framework/Versions/3.8/lib/python3.8/site-packages (from optuna) (1.6.1)\n",
      "Requirement already satisfied: tqdm in /Library/Frameworks/Python.framework/Versions/3.8/lib/python3.8/site-packages (from optuna) (4.56.0)\n",
      "Collecting cliff\n",
      "  Downloading cliff-3.7.0-py3-none-any.whl (80 kB)\n",
      "\u001b[K     |████████████████████████████████| 80 kB 10.7 MB/s eta 0:00:01\n",
      "\u001b[?25hCollecting alembic\n",
      "  Downloading alembic-1.5.7-py2.py3-none-any.whl (159 kB)\n",
      "\u001b[K     |████████████████████████████████| 159 kB 15.2 MB/s eta 0:00:01\n",
      "\u001b[?25hCollecting sqlalchemy>=1.1.0\n",
      "  Downloading SQLAlchemy-1.4.2-cp38-cp38-macosx_10_14_x86_64.whl (1.4 MB)\n",
      "\u001b[K     |████████████████████████████████| 1.4 MB 24.2 MB/s eta 0:00:01\n",
      "\u001b[?25hCollecting colorlog\n",
      "  Downloading colorlog-4.8.0-py2.py3-none-any.whl (10 kB)\n",
      "Requirement already satisfied: packaging>=20.0 in /Library/Frameworks/Python.framework/Versions/3.8/lib/python3.8/site-packages (from optuna) (20.4)\n",
      "Requirement already satisfied: numpy<1.20.0 in /Users/jsusser/Library/Python/3.8/lib/python/site-packages (from optuna) (1.18.5)\n",
      "Collecting cmaes>=0.8.2\n",
      "  Downloading cmaes-0.8.2-py3-none-any.whl (15 kB)\n",
      "Requirement already satisfied: six in /Library/Frameworks/Python.framework/Versions/3.8/lib/python3.8/site-packages (from packaging>=20.0->optuna) (1.15.0)\n",
      "Requirement already satisfied: pyparsing>=2.0.2 in /Library/Frameworks/Python.framework/Versions/3.8/lib/python3.8/site-packages (from packaging>=20.0->optuna) (2.4.7)\n",
      "Collecting greenlet!=0.4.17\n",
      "  Downloading greenlet-1.0.0-cp38-cp38-macosx_10_14_x86_64.whl (86 kB)\n",
      "\u001b[K     |████████████████████████████████| 86 kB 9.6 MB/s  eta 0:00:01\n",
      "\u001b[?25hRequirement already satisfied: python-dateutil in /Library/Frameworks/Python.framework/Versions/3.8/lib/python3.8/site-packages (from alembic->optuna) (2.8.1)\n",
      "Collecting Mako\n",
      "  Downloading Mako-1.1.4-py2.py3-none-any.whl (75 kB)\n",
      "\u001b[K     |████████████████████████████████| 75 kB 6.4 MB/s eta 0:00:01\n",
      "\u001b[?25hCollecting python-editor>=0.3\n",
      "  Downloading python_editor-1.0.4-py3-none-any.whl (4.9 kB)\n",
      "Collecting stevedore>=2.0.1\n",
      "  Downloading stevedore-3.3.0-py3-none-any.whl (49 kB)\n",
      "\u001b[K     |████████████████████████████████| 49 kB 14.4 MB/s eta 0:00:01\n",
      "\u001b[?25hCollecting pbr!=2.1.0,>=2.0.0\n",
      "  Using cached pbr-5.5.1-py2.py3-none-any.whl (106 kB)\n",
      "Collecting PrettyTable>=0.7.2\n",
      "  Downloading prettytable-2.1.0-py3-none-any.whl (22 kB)\n",
      "Requirement already satisfied: PyYAML>=3.12 in /Library/Frameworks/Python.framework/Versions/3.8/lib/python3.8/site-packages (from cliff->optuna) (5.3.1)\n",
      "Collecting cmd2>=1.0.0\n",
      "  Downloading cmd2-1.5.0-py3-none-any.whl (133 kB)\n",
      "\u001b[K     |████████████████████████████████| 133 kB 19.4 MB/s eta 0:00:01\n",
      "\u001b[?25hCollecting pyperclip>=1.6\n",
      "  Downloading pyperclip-1.8.2.tar.gz (20 kB)\n",
      "Requirement already satisfied: wcwidth>=0.1.7 in /Library/Frameworks/Python.framework/Versions/3.8/lib/python3.8/site-packages (from cmd2>=1.0.0->cliff->optuna) (0.2.5)\n",
      "Requirement already satisfied: attrs>=16.3.0 in /Library/Frameworks/Python.framework/Versions/3.8/lib/python3.8/site-packages (from cmd2>=1.0.0->cliff->optuna) (20.2.0)\n",
      "Collecting colorama>=0.3.7\n",
      "  Downloading colorama-0.4.4-py2.py3-none-any.whl (16 kB)\n",
      "Requirement already satisfied: MarkupSafe>=0.9.2 in /Library/Frameworks/Python.framework/Versions/3.8/lib/python3.8/site-packages (from Mako->alembic->optuna) (1.1.1)\n",
      "Building wheels for collected packages: pyperclip\n",
      "  Building wheel for pyperclip (setup.py) ... \u001b[?25ldone\n",
      "\u001b[?25h  Created wheel for pyperclip: filename=pyperclip-1.8.2-py3-none-any.whl size=11107 sha256=195de666d711b65cd8d7466b7c46021178a63f2626c887c8b59cce1752cd418f\n",
      "  Stored in directory: /Users/jsusser/Library/Caches/pip/wheels/7f/1a/65/84ff8c386bec21fca6d220ea1f5498a0367883a78dd5ba6122\n",
      "Successfully built pyperclip\n",
      "Installing collected packages: pyperclip, pbr, greenlet, colorama, stevedore, sqlalchemy, python-editor, PrettyTable, Mako, cmd2, colorlog, cmaes, cliff, alembic, optuna\n",
      "Successfully installed Mako-1.1.4 PrettyTable-2.1.0 alembic-1.5.7 cliff-3.7.0 cmaes-0.8.2 cmd2-1.5.0 colorama-0.4.4 colorlog-4.8.0 greenlet-1.0.0 optuna-2.6.0 pbr-5.5.1 pyperclip-1.8.2 python-editor-1.0.4 sqlalchemy-1.4.2 stevedore-3.3.0\n",
      "Note: you may need to restart the kernel to use updated packages.\n"
     ]
    }
   ],
   "source": [
    "pip install optuna"
   ]
  },
  {
   "cell_type": "markdown",
   "metadata": {
    "papermill": {
     "duration": 0.013422,
     "end_time": "2021-03-03T16:57:10.892392",
     "exception": false,
     "start_time": "2021-03-03T16:57:10.878970",
     "status": "completed"
    },
    "tags": []
   },
   "source": [
    "<a id=\"loading\"></a>\n",
    "\n",
    "##### 0. Imports, Data Loading and Preprocessing"
   ]
  },
  {
   "cell_type": "code",
   "execution_count": 9,
   "metadata": {
    "_cell_guid": "b1076dfc-b9ad-4769-8c92-a6c4dae69d19",
    "_uuid": "8f2839f25d086af736a60e9eeb907d3b93b6e0e5",
    "execution": {
     "iopub.execute_input": "2021-03-03T16:57:10.927796Z",
     "iopub.status.busy": "2021-03-03T16:57:10.926905Z",
     "iopub.status.idle": "2021-03-03T16:57:13.541126Z",
     "shell.execute_reply": "2021-03-03T16:57:13.540324Z"
    },
    "papermill": {
     "duration": 2.635156,
     "end_time": "2021-03-03T16:57:13.541322",
     "exception": false,
     "start_time": "2021-03-03T16:57:10.906166",
     "status": "completed"
    },
    "tags": []
   },
   "outputs": [],
   "source": [
    "import numpy as np\n",
    "import pandas as pd\n",
    "pd.options.display.max_columns = 100\n",
    "from lightgbm import LGBMClassifier\n",
    "from sklearn.model_selection import StratifiedKFold\n",
    "from sklearn.metrics import roc_auc_score\n",
    "from sklearn.preprocessing import QuantileTransformer, StandardScaler\n",
    "from sklearn.feature_selection import VarianceThreshold, SelectKBest\n",
    "import warnings\n",
    "warnings.filterwarnings('ignore')\n",
    "import optuna\n",
    "import os\n",
    "root_path = '../../input'"
   ]
  },
  {
   "cell_type": "code",
   "execution_count": 10,
   "metadata": {
    "execution": {
     "iopub.execute_input": "2021-03-03T16:57:13.586612Z",
     "iopub.status.busy": "2021-03-03T16:57:13.585892Z",
     "iopub.status.idle": "2021-03-03T16:57:17.872624Z",
     "shell.execute_reply": "2021-03-03T16:57:17.871954Z"
    },
    "papermill": {
     "duration": 4.309065,
     "end_time": "2021-03-03T16:57:17.872765",
     "exception": false,
     "start_time": "2021-03-03T16:57:13.563700",
     "status": "completed"
    },
    "tags": []
   },
   "outputs": [],
   "source": [
    "train = pd.read_csv(os.path.join(root_path, 'train.csv'))\n",
    "test = pd.read_csv(os.path.join(root_path, 'test.csv'))\n",
    "sample_submission = pd.read_csv(os.path.join(root_path, 'sample_submission.csv'))\n",
    "\n",
    "categorical_cols = [i for i in train.columns if 'cat' in i]\n",
    "\n",
    "dataset = pd.concat([train, test], axis = 0, ignore_index = True)\n",
    "train_len = len(train)"
   ]
  },
  {
   "cell_type": "code",
   "execution_count": 11,
   "metadata": {
    "execution": {
     "iopub.execute_input": "2021-03-03T16:57:17.908572Z",
     "iopub.status.busy": "2021-03-03T16:57:17.907655Z",
     "iopub.status.idle": "2021-03-03T16:57:17.945267Z",
     "shell.execute_reply": "2021-03-03T16:57:17.944475Z"
    },
    "papermill": {
     "duration": 0.058787,
     "end_time": "2021-03-03T16:57:17.945411",
     "exception": false,
     "start_time": "2021-03-03T16:57:17.886624",
     "status": "completed"
    },
    "tags": []
   },
   "outputs": [],
   "source": [
    "float_cols = list(set(dataset.select_dtypes(['float']).columns.tolist()) - set(['target']))"
   ]
  },
  {
   "cell_type": "code",
   "execution_count": 12,
   "metadata": {
    "execution": {
     "iopub.execute_input": "2021-03-03T16:57:17.979974Z",
     "iopub.status.busy": "2021-03-03T16:57:17.979328Z",
     "iopub.status.idle": "2021-03-03T16:57:19.780620Z",
     "shell.execute_reply": "2021-03-03T16:57:19.780054Z"
    },
    "papermill": {
     "duration": 1.821285,
     "end_time": "2021-03-03T16:57:19.780770",
     "exception": false,
     "start_time": "2021-03-03T16:57:17.959485",
     "status": "completed"
    },
    "tags": []
   },
   "outputs": [],
   "source": [
    "for col in float_cols:\n",
    "    transformer = QuantileTransformer(n_quantiles=100, \n",
    "                                      random_state=0, output_distribution=\"normal\")   # from optimal commit 9\n",
    "    data_len = len(dataset)\n",
    "    raw_vec = dataset[col].values.reshape(data_len, 1)\n",
    "    transformer.fit(raw_vec)\n",
    "    dataset[col+\"_qt\"] = transformer.transform(raw_vec)"
   ]
  },
  {
   "cell_type": "code",
   "execution_count": 13,
   "metadata": {
    "execution": {
     "iopub.execute_input": "2021-03-03T16:57:19.817251Z",
     "iopub.status.busy": "2021-03-03T16:57:19.816365Z",
     "iopub.status.idle": "2021-03-03T16:57:22.777356Z",
     "shell.execute_reply": "2021-03-03T16:57:22.776557Z"
    },
    "papermill": {
     "duration": 2.982368,
     "end_time": "2021-03-03T16:57:22.777532",
     "exception": false,
     "start_time": "2021-03-03T16:57:19.795164",
     "status": "completed"
    },
    "tags": []
   },
   "outputs": [],
   "source": [
    "dataset = pd.get_dummies(dataset, columns = categorical_cols)\n",
    "train_preprocessed = dataset.iloc[:train_len, ]\n",
    "test_preprocessed = dataset.iloc[train_len:, ]\n",
    "\n",
    "test_cols_always_0 = (test_preprocessed.drop('target',1).sum(axis = 0)\n",
    "                      .rename(\"n_non_null\").to_frame().query(\"n_non_null == 0\").index.tolist())\n",
    "\n",
    "features = list(set(train_preprocessed.drop(['id', 'target'], 1).columns.tolist()) - set(test_cols_always_0))\n",
    "\n",
    "assert train_preprocessed.shape[1] == test_preprocessed.shape[1]"
   ]
  },
  {
   "cell_type": "markdown",
   "metadata": {
    "papermill": {
     "duration": 0.021403,
     "end_time": "2021-03-03T16:57:22.820398",
     "exception": false,
     "start_time": "2021-03-03T16:57:22.798995",
     "status": "completed"
    },
    "tags": []
   },
   "source": [
    "**Disclaimer:** \n",
    "\n",
    "I did not inspect whether some of the categorical columns in train have values not present in test or viceversa. A simple solution would be to drop them in train if you knew it beforehand."
   ]
  },
  {
   "cell_type": "markdown",
   "metadata": {
    "papermill": {
     "duration": 0.020941,
     "end_time": "2021-03-03T16:57:22.862927",
     "exception": false,
     "start_time": "2021-03-03T16:57:22.841986",
     "status": "completed"
    },
    "tags": []
   },
   "source": [
    "<a id=\"optuna\"></a>\n",
    "\n",
    "### Optuna\n",
    "\n",
    "Look [here](https://optuna.readthedocs.io/en/stable/tutorial/) for reference about Optuna library. \n",
    "\n",
    "Look [here](https://lightgbm.readthedocs.io/en/latest/pythonapi/lightgbm.LGBMClassifier.html) for a set of Lightgbm Classifier hyperparameters.\n",
    "\n",
    "\n",
    "Skip and go [here](#hyperparams) to find my best parameters."
   ]
  },
  {
   "cell_type": "code",
   "execution_count": 14,
   "metadata": {
    "execution": {
     "iopub.execute_input": "2021-03-03T16:57:22.912085Z",
     "iopub.status.busy": "2021-03-03T16:57:22.911122Z",
     "iopub.status.idle": "2021-03-03T16:57:22.916066Z",
     "shell.execute_reply": "2021-03-03T16:57:22.915195Z"
    },
    "papermill": {
     "duration": 0.031899,
     "end_time": "2021-03-03T16:57:22.916245",
     "exception": false,
     "start_time": "2021-03-03T16:57:22.884346",
     "status": "completed"
    },
    "tags": []
   },
   "outputs": [],
   "source": [
    "#Set to False if you want to skip it\n",
    "\n",
    "OPTUNA_OPTIMIZATION = True"
   ]
  },
  {
   "cell_type": "code",
   "execution_count": 15,
   "metadata": {
    "execution": {
     "iopub.execute_input": "2021-03-03T16:57:22.966249Z",
     "iopub.status.busy": "2021-03-03T16:57:22.965398Z",
     "iopub.status.idle": "2021-03-03T16:57:22.969225Z",
     "shell.execute_reply": "2021-03-03T16:57:22.969842Z"
    },
    "papermill": {
     "duration": 0.029437,
     "end_time": "2021-03-03T16:57:22.970077",
     "exception": false,
     "start_time": "2021-03-03T16:57:22.940640",
     "status": "completed"
    },
    "tags": []
   },
   "outputs": [],
   "source": [
    "N_SPLITS = 10 #Number of folds for validation\n",
    "N_TRIALS = 50 #Number of trials to find best hyperparameters"
   ]
  },
  {
   "cell_type": "code",
   "execution_count": 16,
   "metadata": {
    "execution": {
     "iopub.execute_input": "2021-03-03T16:57:23.026668Z",
     "iopub.status.busy": "2021-03-03T16:57:23.017572Z",
     "iopub.status.idle": "2021-03-03T16:57:23.030826Z",
     "shell.execute_reply": "2021-03-03T16:57:23.029919Z"
    },
    "papermill": {
     "duration": 0.039058,
     "end_time": "2021-03-03T16:57:23.031001",
     "exception": false,
     "start_time": "2021-03-03T16:57:22.991943",
     "status": "completed"
    },
    "tags": []
   },
   "outputs": [],
   "source": [
    "def objective(trial, cv=StratifiedKFold(N_SPLITS, shuffle = True, random_state = 29)):\n",
    "    \n",
    "    \n",
    "    param_lgb = {\n",
    "        \"random_state\": trial.suggest_int(\"random_state\", 1, 100),\n",
    "        \"objective\": \"binary\",\n",
    "        \"metric\": \"binary_logloss\",\n",
    "        \"verbosity\": -1,\n",
    "        \"boosting_type\": \"gbdt\",\n",
    "        \"reg_alpha\": trial.suggest_float(\"reg_alpha\", 1e-8, 10.0, log=True),\n",
    "        \"reg_lambda\": trial.suggest_float(\"reg_lambda\", 1e-8, 10.0, log=True),\n",
    "        \"max_depth\": trial.suggest_int(\"max_depth\", -1, 10),\n",
    "        \"n_estimators\": trial.suggest_int(\"n_estimators\", 50, 500),\n",
    "        \"num_leaves\": trial.suggest_int(\"num_leaves\", 2, 256),\n",
    "        \"colsample_bytree\": trial.suggest_float(\"colsample_bytree\", 0.4, 1.0),\n",
    "        \"subsample\": trial.suggest_float(\"subsample\", 0.4, 1.0),\n",
    "        \"subsample_freq\": trial.suggest_int(\"subsample_freq\", 1, 7),\n",
    "        \"min_child_samples\": trial.suggest_int(\"min_child_samples\", 5, 100),\n",
    "    }\n",
    "    \n",
    "    model = LGBMClassifier(**param_lgb)\n",
    "    \n",
    "    val_aucs = []\n",
    "    aucs = []\n",
    "    \n",
    "    for kfold, (train_idx, val_idx) in enumerate(cv.split(train_preprocessed[features].values, train['target'].values)):\n",
    "        \n",
    "        model.fit(train_preprocessed.loc[train_idx, features], train_preprocessed.loc[train_idx, 'target'])\n",
    "        print('Fitted {}'.format(type(model).__name__))\n",
    "        val_true = train.loc[val_idx, 'target'].values\n",
    "        \n",
    "        preds = model.predict(train_preprocessed.loc[val_idx, features])\n",
    "        \n",
    "        auc = roc_auc_score(val_true, preds)\n",
    "        \n",
    "        print('Fold: {}\\t AUC: {}\\n'.format(kfold, auc))\n",
    "        aucs.append(auc)\n",
    "    \n",
    "    print('Average AUC: {}'.format(np.average(auc)))\n",
    "    return np.average(aucs)"
   ]
  },
  {
   "cell_type": "code",
   "execution_count": null,
   "metadata": {
    "_kg_hide-output": true,
    "execution": {
     "iopub.execute_input": "2021-03-03T16:57:23.078659Z",
     "iopub.status.busy": "2021-03-03T16:57:23.077585Z",
     "iopub.status.idle": "2021-03-03T22:06:15.739095Z",
     "shell.execute_reply": "2021-03-03T22:06:15.737652Z"
    },
    "papermill": {
     "duration": 18532.688376,
     "end_time": "2021-03-03T22:06:15.739233",
     "exception": false,
     "start_time": "2021-03-03T16:57:23.050857",
     "status": "completed"
    },
    "tags": []
   },
   "outputs": [
    {
     "name": "stderr",
     "output_type": "stream",
     "text": [
      "\u001b[32m[I 2021-03-22 14:02:51,857]\u001b[0m A new study created in memory with name: lgbm_parameter_opt\u001b[0m\n"
     ]
    },
    {
     "name": "stdout",
     "output_type": "stream",
     "text": [
      "Fitted LGBMClassifier\n",
      "Fold: 0\t AUC: 0.77603247991778\n",
      "\n",
      "Fitted LGBMClassifier\n",
      "Fold: 1\t AUC: 0.7743390699409278\n",
      "\n",
      "Fitted LGBMClassifier\n",
      "Fold: 2\t AUC: 0.7748151740490261\n",
      "\n",
      "Fitted LGBMClassifier\n",
      "Fold: 3\t AUC: 0.7717161233720741\n",
      "\n",
      "Fitted LGBMClassifier\n",
      "Fold: 4\t AUC: 0.7771396746210494\n",
      "\n",
      "Fitted LGBMClassifier\n",
      "Fold: 5\t AUC: 0.7770258485732717\n",
      "\n",
      "Fitted LGBMClassifier\n",
      "Fold: 6\t AUC: 0.7755892276950306\n",
      "\n",
      "Fitted LGBMClassifier\n",
      "Fold: 7\t AUC: 0.7743321366352652\n",
      "\n",
      "Fitted LGBMClassifier\n",
      "Fold: 8\t AUC: 0.7768273620128942\n",
      "\n",
      "Fitted LGBMClassifier\n"
     ]
    },
    {
     "name": "stderr",
     "output_type": "stream",
     "text": [
      "\u001b[32m[I 2021-03-22 14:10:54,984]\u001b[0m Trial 0 finished with value: 0.7748517129890805 and parameters: {'random_state': 54, 'reg_alpha': 3.103717893483926e-07, 'reg_lambda': 0.001309168497610965, 'max_depth': 4, 'n_estimators': 444, 'num_leaves': 204, 'colsample_bytree': 0.43956080673594555, 'subsample': 0.9894353835585619, 'subsample_freq': 7, 'min_child_samples': 46}. Best is trial 0 with value: 0.7748517129890805.\u001b[0m\n"
     ]
    },
    {
     "name": "stdout",
     "output_type": "stream",
     "text": [
      "Fold: 9\t AUC: 0.7707000330734854\n",
      "\n",
      "Average AUC: 0.7707000330734854\n",
      "Fitted LGBMClassifier\n",
      "Fold: 0\t AUC: 0.7662981016483555\n",
      "\n",
      "Fitted LGBMClassifier\n",
      "Fold: 1\t AUC: 0.7657248456646158\n",
      "\n",
      "Fitted LGBMClassifier\n",
      "Fold: 2\t AUC: 0.7642956260188394\n",
      "\n",
      "Fitted LGBMClassifier\n",
      "Fold: 3\t AUC: 0.7589821859353484\n",
      "\n",
      "Fitted LGBMClassifier\n",
      "Fold: 4\t AUC: 0.7639102084075216\n",
      "\n",
      "Fitted LGBMClassifier\n",
      "Fold: 5\t AUC: 0.7616060398256839\n",
      "\n",
      "Fitted LGBMClassifier\n",
      "Fold: 6\t AUC: 0.761184083978846\n",
      "\n",
      "Fitted LGBMClassifier\n",
      "Fold: 7\t AUC: 0.7618424969341093\n",
      "\n",
      "Fitted LGBMClassifier\n",
      "Fold: 8\t AUC: 0.7640527035315531\n",
      "\n",
      "Fitted LGBMClassifier\n"
     ]
    },
    {
     "name": "stderr",
     "output_type": "stream",
     "text": [
      "\u001b[32m[I 2021-03-22 14:34:05,328]\u001b[0m Trial 1 finished with value: 0.7627437947974908 and parameters: {'random_state': 43, 'reg_alpha': 2.1716166620751105, 'reg_lambda': 1.697400524470599e-05, 'max_depth': 1, 'n_estimators': 278, 'num_leaves': 113, 'colsample_bytree': 0.9712223303913177, 'subsample': 0.7443715832551345, 'subsample_freq': 3, 'min_child_samples': 100}. Best is trial 0 with value: 0.7748517129890805.\u001b[0m\n"
     ]
    },
    {
     "name": "stdout",
     "output_type": "stream",
     "text": [
      "Fold: 9\t AUC: 0.7595416560300344\n",
      "\n",
      "Average AUC: 0.7595416560300344\n",
      "Fitted LGBMClassifier\n",
      "Fold: 0\t AUC: 0.7793609973332508\n",
      "\n",
      "Fitted LGBMClassifier\n",
      "Fold: 1\t AUC: 0.7780654963307576\n",
      "\n",
      "Fitted LGBMClassifier\n",
      "Fold: 2\t AUC: 0.7771068227357004\n",
      "\n",
      "Fitted LGBMClassifier\n",
      "Fold: 3\t AUC: 0.7743038784215692\n",
      "\n",
      "Fitted LGBMClassifier\n",
      "Fold: 4\t AUC: 0.7771683436973033\n",
      "\n",
      "Fitted LGBMClassifier\n",
      "Fold: 5\t AUC: 0.7792777120689347\n",
      "\n",
      "Fitted LGBMClassifier\n",
      "Fold: 6\t AUC: 0.7755480387236134\n",
      "\n",
      "Fitted LGBMClassifier\n",
      "Fold: 7\t AUC: 0.7761481491406433\n",
      "\n",
      "Fitted LGBMClassifier\n",
      "Fold: 8\t AUC: 0.7783116372414131\n",
      "\n",
      "Fitted LGBMClassifier\n"
     ]
    },
    {
     "name": "stderr",
     "output_type": "stream",
     "text": [
      "\u001b[32m[I 2021-03-22 15:48:31,484]\u001b[0m Trial 2 finished with value: 0.776966013275581 and parameters: {'random_state': 80, 'reg_alpha': 1.4874281280228713e-05, 'reg_lambda': 3.7474775963656076e-05, 'max_depth': 0, 'n_estimators': 401, 'num_leaves': 176, 'colsample_bytree': 0.9233645688008493, 'subsample': 0.8318454482716555, 'subsample_freq': 1, 'min_child_samples': 95}. Best is trial 2 with value: 0.776966013275581.\u001b[0m\n"
     ]
    },
    {
     "name": "stdout",
     "output_type": "stream",
     "text": [
      "Fold: 9\t AUC: 0.7743690570626237\n",
      "\n",
      "Average AUC: 0.7743690570626237\n",
      "Fitted LGBMClassifier\n",
      "Fold: 0\t AUC: 0.7716629109644175\n",
      "\n",
      "Fitted LGBMClassifier\n",
      "Fold: 1\t AUC: 0.7717540653880001\n",
      "\n",
      "Fitted LGBMClassifier\n",
      "Fold: 2\t AUC: 0.7698996429398942\n",
      "\n",
      "Fitted LGBMClassifier\n",
      "Fold: 3\t AUC: 0.7659626780213252\n",
      "\n",
      "Fitted LGBMClassifier\n",
      "Fold: 4\t AUC: 0.7698209798793529\n",
      "\n",
      "Fitted LGBMClassifier\n",
      "Fold: 5\t AUC: 0.7699833675988901\n",
      "\n",
      "Fitted LGBMClassifier\n",
      "Fold: 6\t AUC: 0.7712802723817892\n",
      "\n",
      "Fitted LGBMClassifier\n",
      "Fold: 7\t AUC: 0.7663411623269804\n",
      "\n",
      "Fitted LGBMClassifier\n",
      "Fold: 8\t AUC: 0.7719345025279574\n",
      "\n",
      "Fitted LGBMClassifier\n"
     ]
    },
    {
     "name": "stderr",
     "output_type": "stream",
     "text": [
      "\u001b[32m[I 2021-03-22 15:54:13,777]\u001b[0m Trial 3 finished with value: 0.7693936702386086 and parameters: {'random_state': 26, 'reg_alpha': 0.02304443766443416, 'reg_lambda': 0.00023986021923115463, 'max_depth': 2, 'n_estimators': 491, 'num_leaves': 180, 'colsample_bytree': 0.6299648299104261, 'subsample': 0.6590852202024423, 'subsample_freq': 4, 'min_child_samples': 68}. Best is trial 2 with value: 0.776966013275581.\u001b[0m\n"
     ]
    },
    {
     "name": "stdout",
     "output_type": "stream",
     "text": [
      "Fold: 9\t AUC: 0.7652971203574792\n",
      "\n",
      "Average AUC: 0.7652971203574792\n",
      "Fitted LGBMClassifier\n",
      "Fold: 0\t AUC: 0.7764928457073457\n",
      "\n",
      "Fitted LGBMClassifier\n",
      "Fold: 1\t AUC: 0.7763878246724382\n",
      "\n",
      "Fitted LGBMClassifier\n",
      "Fold: 2\t AUC: 0.7757613562810419\n",
      "\n",
      "Fitted LGBMClassifier\n",
      "Fold: 3\t AUC: 0.7703063283950012\n",
      "\n",
      "Fitted LGBMClassifier\n",
      "Fold: 4\t AUC: 0.7767829546181076\n",
      "\n",
      "Fitted LGBMClassifier\n",
      "Fold: 5\t AUC: 0.7772627450763772\n",
      "\n",
      "Fitted LGBMClassifier\n",
      "Fold: 6\t AUC: 0.7748221073546885\n",
      "\n",
      "Fitted LGBMClassifier\n",
      "Fold: 7\t AUC: 0.7732725962822736\n",
      "\n",
      "Fitted LGBMClassifier\n",
      "Fold: 8\t AUC: 0.7771725265063985\n",
      "\n",
      "Fitted LGBMClassifier\n"
     ]
    },
    {
     "name": "stderr",
     "output_type": "stream",
     "text": [
      "\u001b[32m[I 2021-03-22 15:57:07,634]\u001b[0m Trial 4 finished with value: 0.7749222622638012 and parameters: {'random_state': 87, 'reg_alpha': 4.8538412341497015, 'reg_lambda': 0.4402351886068279, 'max_depth': 6, 'n_estimators': 161, 'num_leaves': 44, 'colsample_bytree': 0.47961199131211063, 'subsample': 0.5244731757610268, 'subsample_freq': 7, 'min_child_samples': 60}. Best is trial 2 with value: 0.776966013275581.\u001b[0m\n"
     ]
    },
    {
     "name": "stdout",
     "output_type": "stream",
     "text": [
      "Fold: 9\t AUC: 0.7709613377443411\n",
      "\n",
      "Average AUC: 0.7709613377443411\n",
      "Fitted LGBMClassifier\n",
      "Fold: 0\t AUC: 0.775357889249304\n",
      "\n",
      "Fitted LGBMClassifier\n",
      "Fold: 1\t AUC: 0.7753107028258283\n",
      "\n",
      "Fitted LGBMClassifier\n",
      "Fold: 2\t AUC: 0.7728316551614117\n",
      "\n",
      "Fitted LGBMClassifier\n",
      "Fold: 3\t AUC: 0.7701175541689755\n",
      "\n",
      "Fitted LGBMClassifier\n",
      "Fold: 4\t AUC: 0.7752195484022457\n",
      "\n",
      "Fitted LGBMClassifier\n",
      "Fold: 5\t AUC: 0.7759533489304369\n",
      "\n",
      "Fitted LGBMClassifier\n",
      "Fold: 6\t AUC: 0.774338134087324\n",
      "\n",
      "Fitted LGBMClassifier\n",
      "Fold: 7\t AUC: 0.7709739857578147\n",
      "\n",
      "Fitted LGBMClassifier\n",
      "Fold: 8\t AUC: 0.7758858019846534\n",
      "\n",
      "Fitted LGBMClassifier\n"
     ]
    },
    {
     "name": "stderr",
     "output_type": "stream",
     "text": [
      "\u001b[32m[I 2021-03-22 16:02:56,037]\u001b[0m Trial 5 finished with value: 0.7736801452012172 and parameters: {'random_state': 90, 'reg_alpha': 1.0119255910300629, 'reg_lambda': 0.002789337135652381, 'max_depth': 5, 'n_estimators': 405, 'num_leaves': 6, 'colsample_bytree': 0.9063006803103841, 'subsample': 0.5407238082912899, 'subsample_freq': 3, 'min_child_samples': 33}. Best is trial 2 with value: 0.776966013275581.\u001b[0m\n"
     ]
    },
    {
     "name": "stdout",
     "output_type": "stream",
     "text": [
      "Fold: 9\t AUC: 0.7708128314441767\n",
      "\n",
      "Average AUC: 0.7708128314441767\n",
      "Fitted LGBMClassifier\n",
      "Fold: 0\t AUC: 0.7684010046411264\n",
      "\n",
      "Fitted LGBMClassifier\n",
      "Fold: 1\t AUC: 0.769783037863427\n",
      "\n",
      "Fitted LGBMClassifier\n",
      "Fold: 2\t AUC: 0.7657993544481841\n",
      "\n",
      "Fitted LGBMClassifier\n",
      "Fold: 3\t AUC: 0.7607824886543157\n",
      "\n",
      "Fitted LGBMClassifier\n",
      "Fold: 4\t AUC: 0.7672387543551146\n",
      "\n",
      "Fitted LGBMClassifier\n",
      "Fold: 5\t AUC: 0.7668325082946872\n",
      "\n",
      "Fitted LGBMClassifier\n",
      "Fold: 6\t AUC: 0.7652876194260474\n",
      "\n",
      "Fitted LGBMClassifier\n",
      "Fold: 7\t AUC: 0.7666456057758693\n",
      "\n",
      "Fitted LGBMClassifier\n",
      "Fold: 8\t AUC: 0.7688761728956208\n",
      "\n",
      "Fitted LGBMClassifier\n"
     ]
    },
    {
     "name": "stderr",
     "output_type": "stream",
     "text": [
      "\u001b[32m[I 2021-03-22 16:05:49,882]\u001b[0m Trial 6 finished with value: 0.7661998481481952 and parameters: {'random_state': 55, 'reg_alpha': 1.8501815780142468e-05, 'reg_lambda': 3.376357340406781e-07, 'max_depth': 3, 'n_estimators': 144, 'num_leaves': 163, 'colsample_bytree': 0.5479853415897755, 'subsample': 0.9833669536886586, 'subsample_freq': 7, 'min_child_samples': 50}. Best is trial 2 with value: 0.776966013275581.\u001b[0m\n"
     ]
    },
    {
     "name": "stdout",
     "output_type": "stream",
     "text": [
      "Fold: 9\t AUC: 0.7623519351275592\n",
      "\n",
      "Average AUC: 0.7623519351275592\n",
      "Fitted LGBMClassifier\n",
      "Fold: 0\t AUC: 0.7789006315436853\n",
      "\n",
      "Fitted LGBMClassifier\n",
      "Fold: 1\t AUC: 0.7762929553665623\n",
      "\n",
      "Fitted LGBMClassifier\n",
      "Fold: 2\t AUC: 0.7766404309619541\n",
      "\n",
      "Fitted LGBMClassifier\n",
      "Fold: 3\t AUC: 0.7701934096687053\n",
      "\n",
      "Fitted LGBMClassifier\n",
      "Fold: 4\t AUC: 0.7745981416093044\n",
      "\n",
      "Fitted LGBMClassifier\n",
      "Fold: 5\t AUC: 0.7766394951083504\n",
      "\n",
      "Fitted LGBMClassifier\n",
      "Fold: 6\t AUC: 0.7749659777270039\n",
      "\n",
      "Fitted LGBMClassifier\n",
      "Fold: 7\t AUC: 0.7730819503490403\n",
      "\n",
      "Fitted LGBMClassifier\n",
      "Fold: 8\t AUC: 0.7770471164170613\n",
      "\n",
      "Fitted LGBMClassifier\n"
     ]
    },
    {
     "name": "stderr",
     "output_type": "stream",
     "text": [
      "\u001b[32m[I 2021-03-22 16:14:20,750]\u001b[0m Trial 7 finished with value: 0.7750611536670855 and parameters: {'random_state': 96, 'reg_alpha': 0.003483046331187322, 'reg_lambda': 4.4640302968341976e-05, 'max_depth': -1, 'n_estimators': 254, 'num_leaves': 254, 'colsample_bytree': 0.4400444663403229, 'subsample': 0.49806889471870425, 'subsample_freq': 4, 'min_child_samples': 25}. Best is trial 2 with value: 0.776966013275581.\u001b[0m\n"
     ]
    },
    {
     "name": "stdout",
     "output_type": "stream",
     "text": [
      "Fold: 9\t AUC: 0.7722514279191878\n",
      "\n",
      "Average AUC: 0.7722514279191878\n",
      "Fitted LGBMClassifier\n",
      "Fold: 0\t AUC: 0.7784888559580013\n",
      "\n",
      "Fitted LGBMClassifier\n",
      "Fold: 1\t AUC: 0.7790482453304158\n",
      "\n",
      "Fitted LGBMClassifier\n",
      "Fold: 2\t AUC: 0.779267092413101\n",
      "\n",
      "Fitted LGBMClassifier\n",
      "Fold: 3\t AUC: 0.7756748240612343\n",
      "\n",
      "Fitted LGBMClassifier\n",
      "Fold: 4\t AUC: 0.7786568017349175\n",
      "\n",
      "Fitted LGBMClassifier\n",
      "Fold: 5\t AUC: 0.7790944959002879\n",
      "\n",
      "Fitted LGBMClassifier\n",
      "Fold: 6\t AUC: 0.7788562241488989\n",
      "\n",
      "Fitted LGBMClassifier\n",
      "Fold: 7\t AUC: 0.7745449577337699\n",
      "\n",
      "Fitted LGBMClassifier\n",
      "Fold: 8\t AUC: 0.7776680552832006\n",
      "\n",
      "Fitted LGBMClassifier\n"
     ]
    },
    {
     "name": "stderr",
     "output_type": "stream",
     "text": [
      "\u001b[32m[I 2021-03-22 16:18:06,913]\u001b[0m Trial 8 finished with value: 0.7776772200332646 and parameters: {'random_state': 3, 'reg_alpha': 0.030970364241333752, 'reg_lambda': 0.007657665642184858, 'max_depth': -1, 'n_estimators': 82, 'num_leaves': 202, 'colsample_bytree': 0.9114658574454664, 'subsample': 0.5970475960826434, 'subsample_freq': 2, 'min_child_samples': 66}. Best is trial 8 with value: 0.7776772200332646.\u001b[0m\n"
     ]
    },
    {
     "name": "stdout",
     "output_type": "stream",
     "text": [
      "Fold: 9\t AUC: 0.7754726477688184\n",
      "\n",
      "Average AUC: 0.7754726477688184\n",
      "Fitted LGBMClassifier\n",
      "Fold: 0\t AUC: 0.7688446962585554\n",
      "\n",
      "Fitted LGBMClassifier\n",
      "Fold: 1\t AUC: 0.7665678500368098\n",
      "\n",
      "Fitted LGBMClassifier\n",
      "Fold: 2\t AUC: 0.7670814282340321\n",
      "\n",
      "Fitted LGBMClassifier\n",
      "Fold: 3\t AUC: 0.7613201137240169\n",
      "\n",
      "Fitted LGBMClassifier\n",
      "Fold: 4\t AUC: 0.7645593484231129\n",
      "\n",
      "Fitted LGBMClassifier\n",
      "Fold: 5\t AUC: 0.7630764484428776\n",
      "\n",
      "Fitted LGBMClassifier\n",
      "Fold: 6\t AUC: 0.7622584267967666\n",
      "\n",
      "Fitted LGBMClassifier\n",
      "Fold: 7\t AUC: 0.7634456883409828\n",
      "\n",
      "Fitted LGBMClassifier\n",
      "Fold: 8\t AUC: 0.7661056125400366\n",
      "\n",
      "Fitted LGBMClassifier\n"
     ]
    },
    {
     "name": "stderr",
     "output_type": "stream",
     "text": [
      "\u001b[32m[I 2021-03-22 16:23:00,750]\u001b[0m Trial 9 finished with value: 0.7644110051743676 and parameters: {'random_state': 56, 'reg_alpha': 7.463966789086342e-08, 'reg_lambda': 0.00022104010818645902, 'max_depth': 1, 'n_estimators': 366, 'num_leaves': 229, 'colsample_bytree': 0.42535866126584376, 'subsample': 0.6142795525247925, 'subsample_freq': 4, 'min_child_samples': 70}. Best is trial 8 with value: 0.7776772200332646.\u001b[0m\n"
     ]
    },
    {
     "name": "stdout",
     "output_type": "stream",
     "text": [
      "Fold: 9\t AUC: 0.7608504389464846\n",
      "\n",
      "Average AUC: 0.7608504389464846\n",
      "Fitted LGBMClassifier\n",
      "Fold: 0\t AUC: 0.7772535006688271\n",
      "\n",
      "Fitted LGBMClassifier\n",
      "Fold: 1\t AUC: 0.7770527030065622\n",
      "\n",
      "Fitted LGBMClassifier\n",
      "Fold: 2\t AUC: 0.7741146648008637\n",
      "\n",
      "Fitted LGBMClassifier\n",
      "Fold: 3\t AUC: 0.7707014583406708\n",
      "\n",
      "Fitted LGBMClassifier\n",
      "Fold: 4\t AUC: 0.7762661294653941\n",
      "\n",
      "Fitted LGBMClassifier\n",
      "Fold: 5\t AUC: 0.777202599363058\n",
      "\n",
      "Fitted LGBMClassifier\n",
      "Fold: 6\t AUC: 0.7751940977493611\n",
      "\n",
      "Fitted LGBMClassifier\n",
      "Fold: 7\t AUC: 0.7708037288790109\n",
      "\n",
      "Fitted LGBMClassifier\n",
      "Fold: 8\t AUC: 0.7768204287072318\n",
      "\n",
      "Fitted LGBMClassifier\n"
     ]
    },
    {
     "name": "stderr",
     "output_type": "stream",
     "text": [
      "\u001b[32m[I 2021-03-22 16:26:12,227]\u001b[0m Trial 10 finished with value: 0.7744885585723679 and parameters: {'random_state': 3, 'reg_alpha': 0.05371719088181714, 'reg_lambda': 1.6025217603694422, 'max_depth': 10, 'n_estimators': 64, 'num_leaves': 110, 'colsample_bytree': 0.7890269737124365, 'subsample': 0.404399868268499, 'subsample_freq': 1, 'min_child_samples': 6}. Best is trial 8 with value: 0.7776772200332646.\u001b[0m\n"
     ]
    },
    {
     "name": "stdout",
     "output_type": "stream",
     "text": [
      "Fold: 9\t AUC: 0.769476274742698\n",
      "\n",
      "Average AUC: 0.769476274742698\n",
      "Fitted LGBMClassifier\n",
      "Fold: 0\t AUC: 0.7800388349572182\n",
      "\n",
      "Fitted LGBMClassifier\n",
      "Fold: 1\t AUC: 0.7782593606873602\n",
      "\n",
      "Fitted LGBMClassifier\n",
      "Fold: 2\t AUC: 0.7798533076866838\n",
      "\n",
      "Fitted LGBMClassifier\n",
      "Fold: 3\t AUC: 0.7764646160257715\n",
      "\n",
      "Fitted LGBMClassifier\n",
      "Fold: 4\t AUC: 0.7796483272153235\n",
      "\n",
      "Fitted LGBMClassifier\n",
      "Fold: 5\t AUC: 0.7795502394860786\n",
      "\n",
      "Fitted LGBMClassifier\n",
      "Fold: 6\t AUC: 0.7752607088415409\n",
      "\n",
      "Fitted LGBMClassifier\n",
      "Fold: 7\t AUC: 0.7752116792429793\n",
      "\n",
      "Fitted LGBMClassifier\n",
      "Fold: 8\t AUC: 0.7787174153750385\n",
      "\n",
      "Fitted LGBMClassifier\n"
     ]
    },
    {
     "name": "stderr",
     "output_type": "stream",
     "text": [
      "\u001b[32m[I 2021-03-22 16:30:47,947]\u001b[0m Trial 11 finished with value: 0.7779609075227527 and parameters: {'random_state': 72, 'reg_alpha': 0.00011030701399700635, 'reg_lambda': 0.0388996595539981, 'max_depth': -1, 'n_estimators': 328, 'num_leaves': 152, 'colsample_bytree': 0.8232174503974193, 'subsample': 0.7973354562081402, 'subsample_freq': 1, 'min_child_samples': 95}. Best is trial 11 with value: 0.7779609075227527.\u001b[0m\n"
     ]
    },
    {
     "name": "stdout",
     "output_type": "stream",
     "text": [
      "Fold: 9\t AUC: 0.7766045857095325\n",
      "\n",
      "Average AUC: 0.7766045857095325\n",
      "Fitted LGBMClassifier\n",
      "Fold: 0\t AUC: 0.7813093532336287\n",
      "\n",
      "Fitted LGBMClassifier\n",
      "Fold: 1\t AUC: 0.7791231935086638\n",
      "\n",
      "Fitted LGBMClassifier\n",
      "Fold: 2\t AUC: 0.7793096566328019\n",
      "\n",
      "Fitted LGBMClassifier\n",
      "Fold: 3\t AUC: 0.7754323695007502\n",
      "\n",
      "Fitted LGBMClassifier\n",
      "Fold: 4\t AUC: 0.7787678487540055\n",
      "\n",
      "Fitted LGBMClassifier\n",
      "Fold: 5\t AUC: 0.7796506383172112\n",
      "\n",
      "Fitted LGBMClassifier\n",
      "Fold: 6\t AUC: 0.7786470894005655\n",
      "\n",
      "Fitted LGBMClassifier\n",
      "Fold: 7\t AUC: 0.7773192044395253\n",
      "\n",
      "Fitted LGBMClassifier\n",
      "Fold: 8\t AUC: 0.7774640106654442\n",
      "\n",
      "Fitted LGBMClassifier\n"
     ]
    },
    {
     "name": "stderr",
     "output_type": "stream",
     "text": [
      "\u001b[32m[I 2021-03-22 16:40:13,713]\u001b[0m Trial 12 finished with value: 0.7784043427156473 and parameters: {'random_state': 72, 'reg_alpha': 0.0002072908529811167, 'reg_lambda': 0.04449291635757082, 'max_depth': -1, 'n_estimators': 295, 'num_leaves': 138, 'colsample_bytree': 0.8014957354718788, 'subsample': 0.867248658762283, 'subsample_freq': 2, 'min_child_samples': 84}. Best is trial 12 with value: 0.7784043427156473.\u001b[0m\n"
     ]
    },
    {
     "name": "stdout",
     "output_type": "stream",
     "text": [
      "Fold: 9\t AUC: 0.7770200627038774\n",
      "\n",
      "Average AUC: 0.7770200627038774\n",
      "Fitted LGBMClassifier\n",
      "Fold: 0\t AUC: 0.7817540092367837\n",
      "\n",
      "Fitted LGBMClassifier\n",
      "Fold: 1\t AUC: 0.7790880305214273\n",
      "\n",
      "Fitted LGBMClassifier\n",
      "Fold: 2\t AUC: 0.7805787996609287\n",
      "\n",
      "Fitted LGBMClassifier\n",
      "Fold: 3\t AUC: 0.7749854309278297\n",
      "\n",
      "Fitted LGBMClassifier\n",
      "Fold: 4\t AUC: 0.7794604888429016\n",
      "\n",
      "Fitted LGBMClassifier\n",
      "Fold: 5\t AUC: 0.7798421915719261\n",
      "\n",
      "Fitted LGBMClassifier\n",
      "Fold: 6\t AUC: 0.7789871637634929\n",
      "\n",
      "Fitted LGBMClassifier\n",
      "Fold: 7\t AUC: 0.7767306780640549\n",
      "\n",
      "Fitted LGBMClassifier\n",
      "Fold: 8\t AUC: 0.7784004805631081\n",
      "\n",
      "Fitted LGBMClassifier\n"
     ]
    },
    {
     "name": "stderr",
     "output_type": "stream",
     "text": [
      "\u001b[32m[I 2021-03-22 16:54:31,144]\u001b[0m Trial 13 finished with value: 0.7784814157849066 and parameters: {'random_state': 72, 'reg_alpha': 9.893609479693223e-05, 'reg_lambda': 0.04843690799503364, 'max_depth': 8, 'n_estimators': 304, 'num_leaves': 69, 'colsample_bytree': 0.7790805720861474, 'subsample': 0.8679924052832362, 'subsample_freq': 2, 'min_child_samples': 88}. Best is trial 13 with value: 0.7784814157849066.\u001b[0m\n"
     ]
    },
    {
     "name": "stdout",
     "output_type": "stream",
     "text": [
      "Fold: 9\t AUC: 0.7749868846966136\n",
      "\n",
      "Average AUC: 0.7749868846966136\n",
      "Fitted LGBMClassifier\n",
      "Fold: 0\t AUC: 0.7794281048843547\n",
      "\n",
      "Fitted LGBMClassifier\n",
      "Fold: 1\t AUC: 0.7777874393883571\n",
      "\n",
      "Fitted LGBMClassifier\n",
      "Fold: 2\t AUC: 0.7787919241586065\n",
      "\n",
      "Fitted LGBMClassifier\n",
      "Fold: 3\t AUC: 0.7746356442305504\n",
      "\n",
      "Fitted LGBMClassifier\n",
      "Fold: 4\t AUC: 0.7779757456875809\n",
      "\n",
      "Fitted LGBMClassifier\n",
      "Fold: 5\t AUC: 0.781153898819754\n",
      "\n",
      "Fitted LGBMClassifier\n",
      "Fold: 6\t AUC: 0.7796224371677591\n",
      "\n",
      "Fitted LGBMClassifier\n",
      "Fold: 7\t AUC: 0.7758700921982428\n",
      "\n",
      "Fitted LGBMClassifier\n",
      "Fold: 8\t AUC: 0.7775694996271536\n",
      "\n",
      "Fitted LGBMClassifier\n"
     ]
    },
    {
     "name": "stderr",
     "output_type": "stream",
     "text": [
      "\u001b[32m[I 2021-03-22 17:02:02,654]\u001b[0m Trial 14 finished with value: 0.7776669328387131 and parameters: {'random_state': 69, 'reg_alpha': 3.466245842018993e-06, 'reg_lambda': 0.1969220510129864, 'max_depth': 8, 'n_estimators': 255, 'num_leaves': 76, 'colsample_bytree': 0.7202237643673648, 'subsample': 0.8966109150109464, 'subsample_freq': 2, 'min_child_samples': 83}. Best is trial 13 with value: 0.7784814157849066.\u001b[0m\n"
     ]
    },
    {
     "name": "stdout",
     "output_type": "stream",
     "text": [
      "Fold: 9\t AUC: 0.7738345422247721\n",
      "\n",
      "Average AUC: 0.7738345422247721\n",
      "Fitted LGBMClassifier\n",
      "Fold: 0\t AUC: 0.7817789919628663\n",
      "\n",
      "Fitted LGBMClassifier\n",
      "Fold: 1\t AUC: 0.778597591875202\n",
      "\n",
      "Fitted LGBMClassifier\n",
      "Fold: 2\t AUC: 0.7791088589705368\n",
      "\n",
      "Fitted LGBMClassifier\n",
      "Fold: 3\t AUC: 0.775536483214176\n",
      "\n",
      "Fitted LGBMClassifier\n",
      "Fold: 4\t AUC: 0.7792694035149886\n",
      "\n",
      "Fitted LGBMClassifier\n",
      "Fold: 5\t AUC: 0.780690286074697\n",
      "\n",
      "Fitted LGBMClassifier\n",
      "Fold: 6\t AUC: 0.7780784556206009\n",
      "\n",
      "Fitted LGBMClassifier\n",
      "Fold: 7\t AUC: 0.7773122711338626\n",
      "\n",
      "Fitted LGBMClassifier\n",
      "Fold: 8\t AUC: 0.7784282423178801\n",
      "\n",
      "Fitted LGBMClassifier\n"
     ]
    },
    {
     "name": "stderr",
     "output_type": "stream",
     "text": [
      "\u001b[32m[I 2021-03-22 17:07:51,019]\u001b[0m Trial 15 finished with value: 0.7783372557277624 and parameters: {'random_state': 71, 'reg_alpha': 0.0012804202823178098, 'reg_lambda': 5.1895854827648735, 'max_depth': 10, 'n_estimators': 307, 'num_leaves': 74, 'colsample_bytree': 0.7965732992275475, 'subsample': 0.9101595952018134, 'subsample_freq': 5, 'min_child_samples': 84}. Best is trial 13 with value: 0.7784814157849066.\u001b[0m\n"
     ]
    },
    {
     "name": "stdout",
     "output_type": "stream",
     "text": [
      "Fold: 9\t AUC: 0.774571972592812\n",
      "\n",
      "Average AUC: 0.774571972592812\n",
      "Fitted LGBMClassifier\n",
      "Fold: 0\t AUC: 0.7660774113905846\n",
      "\n",
      "Fitted LGBMClassifier\n",
      "Fold: 1\t AUC: 0.7654106898813751\n",
      "\n",
      "Fitted LGBMClassifier\n",
      "Fold: 2\t AUC: 0.7658872619162753\n",
      "\n",
      "Fitted LGBMClassifier\n",
      "Fold: 3\t AUC: 0.7589322204831831\n",
      "\n",
      "Fitted LGBMClassifier\n",
      "Fold: 4\t AUC: 0.7626142394782264\n",
      "\n",
      "Fitted LGBMClassifier\n",
      "Fold: 5\t AUC: 0.7615944843162463\n",
      "\n",
      "Fitted LGBMClassifier\n",
      "Fold: 6\t AUC: 0.7603008264888386\n",
      "\n",
      "Fitted LGBMClassifier\n",
      "Fold: 7\t AUC: 0.7618735056443727\n",
      "\n",
      "Fitted LGBMClassifier\n",
      "Fold: 8\t AUC: 0.7649294956427\n",
      "\n",
      "Fitted LGBMClassifier\n"
     ]
    },
    {
     "name": "stderr",
     "output_type": "stream",
     "text": [
      "\u001b[32m[I 2021-03-22 17:13:12,191]\u001b[0m Trial 16 finished with value: 0.7627688928296839 and parameters: {'random_state': 36, 'reg_alpha': 0.00020569077258377502, 'reg_lambda': 0.03639103649341312, 'max_depth': 8, 'n_estimators': 203, 'num_leaves': 3, 'colsample_bytree': 0.6779181996454812, 'subsample': 0.8976309474116398, 'subsample_freq': 2, 'min_child_samples': 83}. Best is trial 13 with value: 0.7784814157849066.\u001b[0m\n"
     ]
    },
    {
     "name": "stdout",
     "output_type": "stream",
     "text": [
      "Fold: 9\t AUC: 0.760068793055037\n",
      "\n",
      "Average AUC: 0.760068793055037\n",
      "Fitted LGBMClassifier\n",
      "Fold: 0\t AUC: 0.7810215839568762\n",
      "\n",
      "Fitted LGBMClassifier\n",
      "Fold: 1\t AUC: 0.7773164254108357\n",
      "\n",
      "Fitted LGBMClassifier\n",
      "Fold: 2\t AUC: 0.7765969594207714\n",
      "\n",
      "Fitted LGBMClassifier\n",
      "Fold: 3\t AUC: 0.7738527855716756\n",
      "\n",
      "Fitted LGBMClassifier\n",
      "Fold: 4\t AUC: 0.7784758966681581\n",
      "\n",
      "Fitted LGBMClassifier\n",
      "Fold: 5\t AUC: 0.7785767634260925\n",
      "\n",
      "Fitted LGBMClassifier\n",
      "Fold: 6\t AUC: 0.7771600351433572\n",
      "\n",
      "Fitted LGBMClassifier\n",
      "Fold: 7\t AUC: 0.7733531025179005\n",
      "\n",
      "Fitted LGBMClassifier\n",
      "Fold: 8\t AUC: 0.7772201808566762\n",
      "\n",
      "Fitted LGBMClassifier\n"
     ]
    },
    {
     "name": "stderr",
     "output_type": "stream",
     "text": [
      "\u001b[32m[I 2021-03-22 17:17:46,100]\u001b[0m Trial 17 finished with value: 0.7767464387657715 and parameters: {'random_state': 66, 'reg_alpha': 7.869830896191237e-07, 'reg_lambda': 0.07247527402713776, 'max_depth': 7, 'n_estimators': 218, 'num_leaves': 80, 'colsample_bytree': 0.728026982430669, 'subsample': 0.7604393266842182, 'subsample_freq': 3, 'min_child_samples': 80}. Best is trial 13 with value: 0.7784814157849066.\u001b[0m\n"
     ]
    },
    {
     "name": "stdout",
     "output_type": "stream",
     "text": [
      "Fold: 9\t AUC: 0.7738906546853725\n",
      "\n",
      "Average AUC: 0.7738906546853725\n",
      "Fitted LGBMClassifier\n",
      "Fold: 0\t AUC: 0.7804349007564917\n",
      "\n",
      "Fitted LGBMClassifier\n",
      "Fold: 1\t AUC: 0.7776745491941832\n",
      "\n",
      "Fitted LGBMClassifier\n",
      "Fold: 2\t AUC: 0.7797182137951167\n",
      "\n",
      "Fitted LGBMClassifier\n",
      "Fold: 3\t AUC: 0.7772983759904155\n",
      "\n",
      "Fitted LGBMClassifier\n",
      "Fold: 4\t AUC: 0.7790630477953445\n",
      "\n",
      "Fitted LGBMClassifier\n",
      "Fold: 5\t AUC: 0.7811710123865703\n",
      "\n",
      "Fitted LGBMClassifier\n",
      "Fold: 6\t AUC: 0.7789973440246467\n",
      "\n",
      "Fitted LGBMClassifier\n",
      "Fold: 7\t AUC: 0.7751552484119535\n",
      "\n",
      "Fitted LGBMClassifier\n",
      "Fold: 8\t AUC: 0.7793114998078875\n",
      "\n",
      "Fitted LGBMClassifier\n"
     ]
    },
    {
     "name": "stderr",
     "output_type": "stream",
     "text": [
      "\u001b[32m[I 2021-03-22 17:23:23,118]\u001b[0m Trial 18 finished with value: 0.7783376325114837 and parameters: {'random_state': 98, 'reg_alpha': 6.678525074977078e-05, 'reg_lambda': 5.198624778657669, 'max_depth': 8, 'n_estimators': 350, 'num_leaves': 42, 'colsample_bytree': 0.847159597813053, 'subsample': 0.8450860390640311, 'subsample_freq': 5, 'min_child_samples': 98}. Best is trial 13 with value: 0.7784814157849066.\u001b[0m\n"
     ]
    },
    {
     "name": "stdout",
     "output_type": "stream",
     "text": [
      "Fold: 9\t AUC: 0.7745521329522274\n",
      "\n",
      "Average AUC: 0.7745521329522274\n",
      "Fitted LGBMClassifier\n",
      "Fold: 0\t AUC: 0.778335712646014\n",
      "\n",
      "Fitted LGBMClassifier\n",
      "Fold: 1\t AUC: 0.778696147531249\n",
      "\n",
      "Fitted LGBMClassifier\n",
      "Fold: 2\t AUC: 0.7759552206376445\n",
      "\n",
      "Fitted LGBMClassifier\n",
      "Fold: 3\t AUC: 0.7739480942722313\n",
      "\n",
      "Fitted LGBMClassifier\n",
      "Fold: 4\t AUC: 0.7773538994999597\n",
      "\n",
      "Fitted LGBMClassifier\n",
      "Fold: 5\t AUC: 0.7778313788563417\n",
      "\n",
      "Fitted LGBMClassifier\n",
      "Fold: 6\t AUC: 0.7751940977493611\n",
      "\n",
      "Fitted LGBMClassifier\n",
      "Fold: 7\t AUC: 0.7747096850873166\n",
      "\n",
      "Fitted LGBMClassifier\n",
      "Fold: 8\t AUC: 0.778101127244796\n",
      "\n",
      "Fitted LGBMClassifier\n"
     ]
    },
    {
     "name": "stderr",
     "output_type": "stream",
     "text": [
      "\u001b[32m[I 2021-03-22 17:31:41,074]\u001b[0m Trial 19 finished with value: 0.7762080900065912 and parameters: {'random_state': 83, 'reg_alpha': 1.8738786216365535e-08, 'reg_lambda': 1.8037876745260654e-08, 'max_depth': 5, 'n_estimators': 304, 'num_leaves': 125, 'colsample_bytree': 0.6106164669710735, 'subsample': 0.9583267412111518, 'subsample_freq': 2, 'min_child_samples': 88}. Best is trial 13 with value: 0.7784814157849066.\u001b[0m\n"
     ]
    },
    {
     "name": "stdout",
     "output_type": "stream",
     "text": [
      "Fold: 9\t AUC: 0.7719555365409976\n",
      "\n",
      "Average AUC: 0.7719555365409976\n",
      "Fitted LGBMClassifier\n",
      "Fold: 0\t AUC: 0.7806356984187566\n",
      "\n",
      "Fitted LGBMClassifier\n",
      "Fold: 1\t AUC: 0.7796423297632649\n",
      "\n",
      "Fitted LGBMClassifier\n",
      "Fold: 2\t AUC: 0.7765414359112274\n",
      "\n",
      "Fitted LGBMClassifier\n",
      "Fold: 3\t AUC: 0.775100632223891\n",
      "\n",
      "Fitted LGBMClassifier\n",
      "Fold: 4\t AUC: 0.7783199743274812\n",
      "\n",
      "Fitted LGBMClassifier\n",
      "Fold: 5\t AUC: 0.7803664179571043\n",
      "\n",
      "Fitted LGBMClassifier\n",
      "Fold: 6\t AUC: 0.7762184751151162\n",
      "\n",
      "Fitted LGBMClassifier\n",
      "Fold: 7\t AUC: 0.7752079928928082\n",
      "\n",
      "Fitted LGBMClassifier\n",
      "Fold: 8\t AUC: 0.7785943449197107\n",
      "\n",
      "Fitted LGBMClassifier\n"
     ]
    },
    {
     "name": "stderr",
     "output_type": "stream",
     "text": [
      "\u001b[32m[I 2021-03-22 17:34:13,646]\u001b[0m Trial 20 finished with value: 0.7774434634859647 and parameters: {'random_state': 62, 'reg_alpha': 0.001465149944566875, 'reg_lambda': 0.6802622704681884, 'max_depth': 9, 'n_estimators': 214, 'num_leaves': 35, 'colsample_bytree': 0.7561729533866004, 'subsample': 0.7032958752183506, 'subsample_freq': 1, 'min_child_samples': 74}. Best is trial 13 with value: 0.7784814157849066.\u001b[0m\n"
     ]
    },
    {
     "name": "stdout",
     "output_type": "stream",
     "text": [
      "Fold: 9\t AUC: 0.7738073333302865\n",
      "\n",
      "Average AUC: 0.7738073333302865\n",
      "Fitted LGBMClassifier\n",
      "Fold: 0\t AUC: 0.7814370744248536\n",
      "\n",
      "Fitted LGBMClassifier\n",
      "Fold: 1\t AUC: 0.7785776992796963\n",
      "\n",
      "Fitted LGBMClassifier\n",
      "Fold: 2\t AUC: 0.7780243358914625\n",
      "\n",
      "Fitted LGBMClassifier\n",
      "Fold: 3\t AUC: 0.7751760483289408\n",
      "\n",
      "Fitted LGBMClassifier\n",
      "Fold: 4\t AUC: 0.7786850314164914\n",
      "\n",
      "Fitted LGBMClassifier\n",
      "Fold: 5\t AUC: 0.7813454520744691\n",
      "\n",
      "Fitted LGBMClassifier\n",
      "Fold: 6\t AUC: 0.778237156989967\n",
      "\n",
      "Fitted LGBMClassifier\n",
      "Fold: 7\t AUC: 0.7761217911662771\n",
      "\n",
      "Fitted LGBMClassifier\n",
      "Fold: 8\t AUC: 0.7809480110269119\n",
      "\n",
      "Fitted LGBMClassifier\n"
     ]
    },
    {
     "name": "stderr",
     "output_type": "stream",
     "text": [
      "\u001b[32m[I 2021-03-22 17:39:32,597]\u001b[0m Trial 21 finished with value: 0.7782634273877438 and parameters: {'random_state': 96, 'reg_alpha': 5.122639355317028e-05, 'reg_lambda': 9.145792440333492, 'max_depth': 7, 'n_estimators': 348, 'num_leaves': 36, 'colsample_bytree': 0.8433809047398819, 'subsample': 0.8409386798280204, 'subsample_freq': 6, 'min_child_samples': 100}. Best is trial 13 with value: 0.7784814157849066.\u001b[0m\n"
     ]
    },
    {
     "name": "stdout",
     "output_type": "stream",
     "text": [
      "Fold: 9\t AUC: 0.774081673278368\n",
      "\n",
      "Average AUC: 0.774081673278368\n",
      "Fitted LGBMClassifier\n",
      "Fold: 0\t AUC: 0.7820135773640843\n",
      "\n",
      "Fitted LGBMClassifier\n",
      "Fold: 1\t AUC: 0.779295322094675\n",
      "\n",
      "Fitted LGBMClassifier\n",
      "Fold: 2\t AUC: 0.7799444621102664\n",
      "\n",
      "Fitted LGBMClassifier\n",
      "Fold: 3\t AUC: 0.7749900531316046\n",
      "\n",
      "Fitted LGBMClassifier\n",
      "Fold: 4\t AUC: 0.7787761858400739\n",
      "\n",
      "Fitted LGBMClassifier\n",
      "Fold: 5\t AUC: 0.7802072486609362\n",
      "\n",
      "Fitted LGBMClassifier\n",
      "Fold: 6\t AUC: 0.7778998616557292\n",
      "\n",
      "Fitted LGBMClassifier\n",
      "Fold: 7\t AUC: 0.7769721967709353\n",
      "\n",
      "Fitted LGBMClassifier\n",
      "Fold: 8\t AUC: 0.7785013473210426\n",
      "\n",
      "Fitted LGBMClassifier\n"
     ]
    },
    {
     "name": "stderr",
     "output_type": "stream",
     "text": [
      "\u001b[32m[I 2021-03-22 17:54:20,666]\u001b[0m Trial 22 finished with value: 0.7786212639623306 and parameters: {'random_state': 100, 'reg_alpha': 5.811138644985759e-06, 'reg_lambda': 9.66053736844112, 'max_depth': 9, 'n_estimators': 401, 'num_leaves': 98, 'colsample_bytree': 0.8608126069266873, 'subsample': 0.8524756463121624, 'subsample_freq': 5, 'min_child_samples': 93}. Best is trial 22 with value: 0.7786212639623306.\u001b[0m\n"
     ]
    },
    {
     "name": "stdout",
     "output_type": "stream",
     "text": [
      "Fold: 9\t AUC: 0.7776123846739581\n",
      "\n",
      "Average AUC: 0.7776123846739581\n",
      "Fitted LGBMClassifier\n",
      "Fold: 0\t AUC: 0.780011541129248\n",
      "\n",
      "Fitted LGBMClassifier\n",
      "Fold: 1\t AUC: 0.7796066988492264\n",
      "\n",
      "Fitted LGBMClassifier\n",
      "Fold: 2\t AUC: 0.7792795837761424\n",
      "\n",
      "Fitted LGBMClassifier\n",
      "Fold: 3\t AUC: 0.7759255871756648\n",
      "\n",
      "Fitted LGBMClassifier\n",
      "Fold: 4\t AUC: 0.7776981281398601\n",
      "\n",
      "Fitted LGBMClassifier\n",
      "Fold: 5\t AUC: 0.7798139618903522\n",
      "\n",
      "Fitted LGBMClassifier\n",
      "Fold: 6\t AUC: 0.7778262887257648\n",
      "\n",
      "Fitted LGBMClassifier\n",
      "Fold: 7\t AUC: 0.7780238679646606\n",
      "\n",
      "Fitted LGBMClassifier\n",
      "Fold: 8\t AUC: 0.779019079795238\n",
      "\n",
      "Fitted LGBMClassifier\n"
     ]
    },
    {
     "name": "stderr",
     "output_type": "stream",
     "text": [
      "\u001b[32m[I 2021-03-22 18:02:35,190]\u001b[0m Trial 23 finished with value: 0.7781480835778674 and parameters: {'random_state': 76, 'reg_alpha': 2.0540372920678053e-06, 'reg_lambda': 0.012937590358078482, 'max_depth': 9, 'n_estimators': 488, 'num_leaves': 91, 'colsample_bytree': 0.9993999738254409, 'subsample': 0.9458336734739123, 'subsample_freq': 5, 'min_child_samples': 90}. Best is trial 22 with value: 0.7786212639623306.\u001b[0m\n"
     ]
    },
    {
     "name": "stdout",
     "output_type": "stream",
     "text": [
      "Fold: 9\t AUC: 0.7742760983325166\n",
      "\n",
      "Average AUC: 0.7742760983325166\n",
      "Fitted LGBMClassifier\n",
      "Fold: 0\t AUC: 0.7811182679057155\n",
      "\n",
      "Fitted LGBMClassifier\n",
      "Fold: 1\t AUC: 0.7795738469638774\n",
      "\n",
      "Fitted LGBMClassifier\n",
      "Fold: 2\t AUC: 0.7782024619295325\n",
      "\n",
      "Fitted LGBMClassifier\n",
      "Fold: 3\t AUC: 0.776748698952353\n",
      "\n",
      "Fitted LGBMClassifier\n",
      "Fold: 4\t AUC: 0.7813153792178095\n",
      "\n",
      "Fitted LGBMClassifier\n",
      "Fold: 5\t AUC: 0.7797963803967338\n",
      "\n",
      "Fitted LGBMClassifier\n",
      "Fold: 6\t AUC: 0.7777207997640554\n",
      "\n",
      "Fitted LGBMClassifier\n",
      "Fold: 7\t AUC: 0.7759519736821532\n",
      "\n",
      "Fitted LGBMClassifier\n",
      "Fold: 8\t AUC: 0.7785938769929088\n",
      "\n",
      "Fitted LGBMClassifier\n"
     ]
    },
    {
     "name": "stderr",
     "output_type": "stream",
     "text": [
      "\u001b[32m[I 2021-03-22 18:09:16,866]\u001b[0m Trial 24 finished with value: 0.7783608396905753 and parameters: {'random_state': 36, 'reg_alpha': 9.802472986564822e-06, 'reg_lambda': 1.4551127130310493, 'max_depth': 10, 'n_estimators': 395, 'num_leaves': 147, 'colsample_bytree': 0.8722581730393842, 'subsample': 0.7815839705752803, 'subsample_freq': 6, 'min_child_samples': 77}. Best is trial 22 with value: 0.7786212639623306.\u001b[0m\n"
     ]
    },
    {
     "name": "stdout",
     "output_type": "stream",
     "text": [
      "Fold: 9\t AUC: 0.7745867111006144\n",
      "\n",
      "Average AUC: 0.7745867111006144\n",
      "Fitted LGBMClassifier\n",
      "Fold: 0\t AUC: 0.779140775002282\n",
      "\n",
      "Fitted LGBMClassifier\n",
      "Fold: 1\t AUC: 0.778396326286135\n",
      "\n",
      "Fitted LGBMClassifier\n",
      "Fold: 2\t AUC: 0.7779410506271462\n",
      "\n",
      "Fitted LGBMClassifier\n",
      "Fold: 3\t AUC: 0.7755920067237201\n",
      "\n",
      "Fitted LGBMClassifier\n",
      "Fold: 4\t AUC: 0.7780562519232077\n",
      "\n",
      "Fitted LGBMClassifier\n",
      "Fold: 5\t AUC: 0.7814310484406727\n",
      "\n",
      "Fitted LGBMClassifier\n",
      "Fold: 6\t AUC: 0.7776055984679939\n",
      "\n",
      "Fitted LGBMClassifier\n",
      "Fold: 7\t AUC: 0.7754143486124523\n",
      "\n",
      "Fitted LGBMClassifier\n",
      "Fold: 8\t AUC: 0.7789765155755369\n",
      "\n",
      "Fitted LGBMClassifier\n"
     ]
    },
    {
     "name": "stderr",
     "output_type": "stream",
     "text": [
      "\u001b[32m[I 2021-03-22 18:17:59,622]\u001b[0m Trial 25 finished with value: 0.7776215016810388 and parameters: {'random_state': 91, 'reg_alpha': 0.0002534476646070017, 'reg_lambda': 0.19948200673550567, 'max_depth': 6, 'n_estimators': 450, 'num_leaves': 137, 'colsample_bytree': 0.6677511845148127, 'subsample': 0.8712538544237614, 'subsample_freq': 3, 'min_child_samples': 59}. Best is trial 22 with value: 0.7786212639623306.\u001b[0m\n"
     ]
    },
    {
     "name": "stdout",
     "output_type": "stream",
     "text": [
      "Fold: 9\t AUC: 0.7736610951512415\n",
      "\n",
      "Average AUC: 0.7736610951512415\n",
      "Fitted LGBMClassifier\n",
      "Fold: 0\t AUC: 0.7806028465334077\n",
      "\n",
      "Fitted LGBMClassifier\n",
      "Fold: 1\t AUC: 0.778106685302175\n",
      "\n",
      "Fitted LGBMClassifier\n",
      "Fold: 2\t AUC: 0.7794711370308575\n",
      "\n",
      "Fitted LGBMClassifier\n",
      "Fold: 3\t AUC: 0.7764877555767687\n",
      "\n",
      "Fitted LGBMClassifier\n",
      "Fold: 4\t AUC: 0.7796090099511139\n",
      "\n",
      "Fitted LGBMClassifier\n",
      "Fold: 5\t AUC: 0.7812265358961143\n",
      "\n",
      "Fitted LGBMClassifier\n",
      "Fold: 6\t AUC: 0.7785721412223175\n",
      "\n",
      "Fitted LGBMClassifier\n",
      "Fold: 7\t AUC: 0.7747624295681713\n",
      "\n",
      "Fitted LGBMClassifier\n",
      "Fold: 8\t AUC: 0.7787484240853019\n",
      "\n",
      "Fitted LGBMClassifier\n"
     ]
    },
    {
     "name": "stderr",
     "output_type": "stream",
     "text": [
      "\u001b[32m[I 2021-03-22 18:22:35,359]\u001b[0m Trial 26 finished with value: 0.7780462451633273 and parameters: {'random_state': 17, 'reg_alpha': 0.005046025131942895, 'reg_lambda': 0.001544503469050444, 'max_depth': 9, 'n_estimators': 289, 'num_leaves': 99, 'colsample_bytree': 0.7741280248691558, 'subsample': 0.7171203039805842, 'subsample_freq': 6, 'min_child_samples': 88}. Best is trial 22 with value: 0.7786212639623306.\u001b[0m\n"
     ]
    },
    {
     "name": "stdout",
     "output_type": "stream",
     "text": [
      "Fold: 9\t AUC: 0.7728754864670457\n",
      "\n",
      "Average AUC: 0.7728754864670457\n",
      "Fitted LGBMClassifier\n",
      "Fold: 0\t AUC: 0.7808878653135929\n",
      "\n",
      "Fitted LGBMClassifier\n",
      "Fold: 1\t AUC: 0.777666212108115\n",
      "\n",
      "Fitted LGBMClassifier\n",
      "Fold: 2\t AUC: 0.776420676557787\n",
      "\n",
      "Fitted LGBMClassifier\n",
      "Fold: 3\t AUC: 0.7764646160257715\n",
      "\n",
      "Fitted LGBMClassifier\n",
      "Fold: 4\t AUC: 0.7779322456142761\n",
      "\n",
      "Fitted LGBMClassifier\n",
      "Fold: 5\t AUC: 0.7805292736034434\n",
      "\n",
      "Fitted LGBMClassifier\n",
      "Fold: 6\t AUC: 0.776711224863229\n",
      "\n",
      "Fitted LGBMClassifier\n",
      "Fold: 7\t AUC: 0.7770175400193255\n",
      "\n",
      "Fitted LGBMClassifier\n",
      "Fold: 8\t AUC: 0.7782792532828661\n",
      "\n",
      "Fitted LGBMClassifier\n"
     ]
    },
    {
     "name": "stderr",
     "output_type": "stream",
     "text": [
      "\u001b[32m[I 2021-03-22 18:29:02,502]\u001b[0m Trial 27 finished with value: 0.7776077873373557 and parameters: {'random_state': 47, 'reg_alpha': 0.0006402014822484011, 'reg_lambda': 3.2003778975319863e-06, 'max_depth': 7, 'n_estimators': 428, 'num_leaves': 59, 'colsample_bytree': 0.9580623654720174, 'subsample': 0.8077207447780798, 'subsample_freq': 5, 'min_child_samples': 75}. Best is trial 22 with value: 0.7786212639623306.\u001b[0m\n"
     ]
    },
    {
     "name": "stdout",
     "output_type": "stream",
     "text": [
      "Fold: 9\t AUC: 0.7741689659851502\n",
      "\n",
      "Average AUC: 0.7741689659851502\n",
      "Fitted LGBMClassifier\n",
      "Fold: 0\t AUC: 0.7779780567894684\n",
      "\n",
      "Fitted LGBMClassifier\n",
      "Fold: 1\t AUC: 0.7761139220070107\n",
      "\n",
      "Fitted LGBMClassifier\n",
      "Fold: 2\t AUC: 0.7739791029824946\n",
      "\n",
      "Fitted LGBMClassifier\n",
      "Fold: 3\t AUC: 0.7710433758786838\n",
      "\n",
      "Fitted LGBMClassifier\n",
      "Fold: 4\t AUC: 0.7758487958223312\n",
      "\n",
      "Fitted LGBMClassifier\n",
      "Fold: 5\t AUC: 0.7770587004586207\n",
      "\n",
      "Fitted LGBMClassifier\n",
      "Fold: 6\t AUC: 0.7741141968740617\n",
      "\n",
      "Fitted LGBMClassifier\n",
      "Fold: 7\t AUC: 0.7724189437221239\n",
      "\n",
      "Fitted LGBMClassifier\n",
      "Fold: 8\t AUC: 0.776379019659568\n",
      "\n",
      "Fitted LGBMClassifier\n"
     ]
    },
    {
     "name": "stderr",
     "output_type": "stream",
     "text": [
      "\u001b[32m[I 2021-03-22 18:37:53,027]\u001b[0m Trial 28 finished with value: 0.7745535522514416 and parameters: {'random_state': 80, 'reg_alpha': 1.8149004908135086e-07, 'reg_lambda': 0.011448305596901166, 'max_depth': 4, 'n_estimators': 372, 'num_leaves': 127, 'colsample_bytree': 0.8867767356061373, 'subsample': 0.9382374089436435, 'subsample_freq': 2, 'min_child_samples': 93}. Best is trial 22 with value: 0.7786212639623306.\u001b[0m\n"
     ]
    },
    {
     "name": "stdout",
     "output_type": "stream",
     "text": [
      "Fold: 9\t AUC: 0.7706014083200537\n",
      "\n",
      "Average AUC: 0.7706014083200537\n",
      "Fitted LGBMClassifier\n",
      "Fold: 0\t AUC: 0.7750687161921459\n",
      "\n",
      "Fitted LGBMClassifier\n",
      "Fold: 1\t AUC: 0.7743589625364335\n",
      "\n",
      "Fitted LGBMClassifier\n",
      "Fold: 2\t AUC: 0.7720233458496525\n",
      "\n",
      "Fitted LGBMClassifier\n",
      "Fold: 3\t AUC: 0.7687586604976718\n",
      "\n",
      "Fitted LGBMClassifier\n",
      "Fold: 4\t AUC: 0.7737019533615759\n",
      "\n",
      "Fitted LGBMClassifier\n",
      "Fold: 5\t AUC: 0.7737287792627441\n",
      "\n",
      "Fitted LGBMClassifier\n",
      "Fold: 6\t AUC: 0.7729792404160203\n",
      "\n",
      "Fitted LGBMClassifier\n",
      "Fold: 7\t AUC: 0.771773050662024\n",
      "\n",
      "Fitted LGBMClassifier\n",
      "Fold: 8\t AUC: 0.7760121193954723\n",
      "\n",
      "Fitted LGBMClassifier\n"
     ]
    },
    {
     "name": "stderr",
     "output_type": "stream",
     "text": [
      "\u001b[32m[I 2021-03-22 19:44:58,880]\u001b[0m Trial 29 finished with value: 0.7729303813984666 and parameters: {'random_state': 58, 'reg_alpha': 3.788434100738878e-06, 'reg_lambda': 0.10710225567319921, 'max_depth': 3, 'n_estimators': 442, 'num_leaves': 59, 'colsample_bytree': 0.8260419479154154, 'subsample': 0.8706329948220672, 'subsample_freq': 3, 'min_child_samples': 42}. Best is trial 22 with value: 0.7786212639623306.\u001b[0m\n"
     ]
    },
    {
     "name": "stdout",
     "output_type": "stream",
     "text": [
      "Fold: 9\t AUC: 0.7708989858109253\n",
      "\n",
      "Average AUC: 0.7708989858109253\n",
      "Fitted LGBMClassifier\n",
      "Fold: 0\t AUC: 0.7792171269609357\n",
      "\n",
      "Fitted LGBMClassifier\n",
      "Fold: 1\t AUC: 0.776730210137253\n",
      "\n",
      "Fitted LGBMClassifier\n",
      "Fold: 2\t AUC: 0.7749377765775519\n",
      "\n",
      "Fitted LGBMClassifier\n",
      "Fold: 3\t AUC: 0.7733845506228436\n",
      "\n",
      "Fitted LGBMClassifier\n",
      "Fold: 4\t AUC: 0.7778142652895254\n",
      "\n",
      "Fitted LGBMClassifier\n",
      "Fold: 5\t AUC: 0.7792559762983434\n",
      "\n",
      "Fitted LGBMClassifier\n",
      "Fold: 6\t AUC: 0.7779151320474598\n",
      "\n",
      "Fitted LGBMClassifier\n",
      "Fold: 7\t AUC: 0.7746648097657283\n",
      "\n",
      "Fitted LGBMClassifier\n",
      "Fold: 8\t AUC: 0.779140775002282\n",
      "\n",
      "Fitted LGBMClassifier\n"
     ]
    },
    {
     "name": "stderr",
     "output_type": "stream",
     "text": [
      "\u001b[32m[I 2021-03-22 19:50:47,574]\u001b[0m Trial 30 finished with value: 0.7764769028189324 and parameters: {'random_state': 66, 'reg_alpha': 4.002624998704606e-05, 'reg_lambda': 0.0005292700904098723, 'max_depth': 6, 'n_estimators': 256, 'num_leaves': 103, 'colsample_bytree': 0.7305799662232784, 'subsample': 0.9798477284065219, 'subsample_freq': 4, 'min_child_samples': 60}. Best is trial 22 with value: 0.7786212639623306.\u001b[0m\n"
     ]
    },
    {
     "name": "stdout",
     "output_type": "stream",
     "text": [
      "Fold: 9\t AUC: 0.7717084054874016\n",
      "\n",
      "Average AUC: 0.7717084054874016\n",
      "Fitted LGBMClassifier\n",
      "Fold: 0\t AUC: 0.7832484647264565\n",
      "\n",
      "Fitted LGBMClassifier\n",
      "Fold: 1\t AUC: 0.7782496483530085\n",
      "\n",
      "Fitted LGBMClassifier\n",
      "Fold: 2\t AUC: 0.7792189701360213\n",
      "\n",
      "Fitted LGBMClassifier\n",
      "Fold: 3\t AUC: 0.7761749750418115\n",
      "\n",
      "Fitted LGBMClassifier\n",
      "Fold: 4\t AUC: 0.777539426770494\n",
      "\n",
      "Fitted LGBMClassifier\n",
      "Fold: 5\t AUC: 0.7815740114915062\n",
      "\n",
      "Fitted LGBMClassifier\n",
      "Fold: 6\t AUC: 0.7771368955923601\n",
      "\n",
      "Fitted LGBMClassifier\n",
      "Fold: 7\t AUC: 0.776528944548186\n",
      "\n",
      "Fitted LGBMClassifier\n",
      "Fold: 8\t AUC: 0.7795303468905728\n",
      "\n",
      "Fitted LGBMClassifier\n"
     ]
    },
    {
     "name": "stderr",
     "output_type": "stream",
     "text": [
      "\u001b[32m[I 2021-03-22 19:58:26,448]\u001b[0m Trial 31 finished with value: 0.7784213509020396 and parameters: {'random_state': 34, 'reg_alpha': 1.2268571525996644e-05, 'reg_lambda': 1.7434409990658855, 'max_depth': 10, 'n_estimators': 388, 'num_leaves': 131, 'colsample_bytree': 0.8674540046508605, 'subsample': 0.7764751075217927, 'subsample_freq': 6, 'min_child_samples': 77}. Best is trial 22 with value: 0.7786212639623306.\u001b[0m\n"
     ]
    },
    {
     "name": "stdout",
     "output_type": "stream",
     "text": [
      "Fold: 9\t AUC: 0.7750118254699799\n",
      "\n",
      "Average AUC: 0.7750118254699799\n",
      "Fitted LGBMClassifier\n",
      "Fold: 0\t AUC: 0.7807064923200315\n",
      "\n",
      "Fitted LGBMClassifier\n",
      "Fold: 1\t AUC: 0.7783458929071677\n",
      "\n",
      "Fitted LGBMClassifier\n",
      "Fold: 2\t AUC: 0.7772937537866406\n",
      "\n",
      "Fitted LGBMClassifier\n",
      "Fold: 3\t AUC: 0.7757655105580149\n",
      "\n",
      "Fitted LGBMClassifier\n",
      "Fold: 4\t AUC: 0.7792337726009502\n",
      "\n",
      "Fitted LGBMClassifier\n",
      "Fold: 5\t AUC: 0.778583696731755\n",
      "\n",
      "Fitted LGBMClassifier\n",
      "Fold: 6\t AUC: 0.7774487402737135\n",
      "\n",
      "Fitted LGBMClassifier\n",
      "Fold: 7\t AUC: 0.7778707246526733\n",
      "\n",
      "Fitted LGBMClassifier\n",
      "Fold: 8\t AUC: 0.7794049653333576\n",
      "\n",
      "Fitted LGBMClassifier\n"
     ]
    },
    {
     "name": "stderr",
     "output_type": "stream",
     "text": [
      "\u001b[32m[I 2021-03-22 20:04:42,190]\u001b[0m Trial 32 finished with value: 0.7780846055781698 and parameters: {'random_state': 22, 'reg_alpha': 6.381622454224719e-07, 'reg_lambda': 3.4668176840868177, 'max_depth': 9, 'n_estimators': 324, 'num_leaves': 119, 'colsample_bytree': 0.9622074346915549, 'subsample': 0.7446375569488948, 'subsample_freq': 6, 'min_child_samples': 100}. Best is trial 22 with value: 0.7786212639623306.\u001b[0m\n"
     ]
    },
    {
     "name": "stdout",
     "output_type": "stream",
     "text": [
      "Fold: 9\t AUC: 0.7761925066173931\n",
      "\n",
      "Average AUC: 0.7761925066173931\n",
      "Fitted LGBMClassifier\n",
      "Fold: 0\t AUC: 0.7811765704439491\n",
      "\n",
      "Fitted LGBMClassifier\n",
      "Fold: 1\t AUC: 0.7797954730752522\n",
      "\n",
      "Fitted LGBMClassifier\n",
      "Fold: 2\t AUC: 0.777970187630202\n",
      "\n",
      "Fitted LGBMClassifier\n",
      "Fold: 3\t AUC: 0.7756007832044682\n",
      "\n",
      "Fitted LGBMClassifier\n",
      "Fold: 4\t AUC: 0.7782644508179372\n",
      "\n",
      "Fitted LGBMClassifier\n",
      "Fold: 5\t AUC: 0.7799550817660998\n",
      "\n",
      "Fitted LGBMClassifier\n",
      "Fold: 6\t AUC: 0.7767038236307646\n",
      "\n",
      "Fitted LGBMClassifier\n",
      "Fold: 7\t AUC: 0.7754587560072386\n",
      "\n",
      "Fitted LGBMClassifier\n",
      "Fold: 8\t AUC: 0.7779562924867549\n",
      "\n",
      "Fitted LGBMClassifier\n"
     ]
    },
    {
     "name": "stderr",
     "output_type": "stream",
     "text": [
      "\u001b[32m[I 2021-03-22 20:14:36,377]\u001b[0m Trial 33 finished with value: 0.7777384808808194 and parameters: {'random_state': 41, 'reg_alpha': 9.105395525604685e-06, 'reg_lambda': 0.6320956492490926, 'max_depth': 10, 'n_estimators': 461, 'num_leaves': 135, 'colsample_bytree': 0.8660654205739193, 'subsample': 0.8138277897176545, 'subsample_freq': 5, 'min_child_samples': 89}. Best is trial 22 with value: 0.7786212639623306.\u001b[0m\n"
     ]
    },
    {
     "name": "stdout",
     "output_type": "stream",
     "text": [
      "Fold: 9\t AUC: 0.7745033897455281\n",
      "\n",
      "Average AUC: 0.7745033897455281\n",
      "Fitted LGBMClassifier\n",
      "Fold: 0\t AUC: 0.7799065200943404\n",
      "\n",
      "Fitted LGBMClassifier\n",
      "Fold: 1\t AUC: 0.7784615621300311\n",
      "\n",
      "Fitted LGBMClassifier\n",
      "Fold: 2\t AUC: 0.777891085174981\n",
      "\n",
      "Fitted LGBMClassifier\n",
      "Fold: 3\t AUC: 0.7752422200264409\n",
      "\n",
      "Fitted LGBMClassifier\n",
      "Fold: 4\t AUC: 0.777403864952125\n",
      "\n",
      "Fitted LGBMClassifier\n",
      "Fold: 5\t AUC: 0.7800739979444545\n",
      "\n",
      "Fitted LGBMClassifier\n",
      "Fold: 6\t AUC: 0.7790579576647676\n",
      "\n",
      "Fitted LGBMClassifier\n",
      "Fold: 7\t AUC: 0.7772997797708213\n",
      "\n",
      "Fitted LGBMClassifier\n",
      "Fold: 8\t AUC: 0.7771572561146677\n",
      "\n",
      "Fitted LGBMClassifier\n"
     ]
    },
    {
     "name": "stderr",
     "output_type": "stream",
     "text": [
      "\u001b[32m[I 2021-03-22 20:21:11,206]\u001b[0m Trial 34 finished with value: 0.7776556077510413 and parameters: {'random_state': 30, 'reg_alpha': 0.00046742618080696435, 'reg_lambda': 8.018427327396678, 'max_depth': 8, 'n_estimators': 379, 'num_leaves': 179, 'colsample_bytree': 0.8021309331006635, 'subsample': 0.8574056191501539, 'subsample_freq': 7, 'min_child_samples': 72}. Best is trial 22 with value: 0.7786212639623306.\u001b[0m\n"
     ]
    },
    {
     "name": "stdout",
     "output_type": "stream",
     "text": [
      "Fold: 9\t AUC: 0.7740618336377837\n",
      "\n",
      "Average AUC: 0.7740618336377837\n",
      "Fitted LGBMClassifier\n",
      "Fold: 0\t AUC: 0.7798981830082723\n",
      "\n",
      "Fitted LGBMClassifier\n",
      "Fold: 1\t AUC: 0.7787886772031153\n",
      "\n"
     ]
    }
   ],
   "source": [
    "if OPTUNA_OPTIMIZATION:\n",
    "    study = optuna.create_study(study_name = 'lgbm_parameter_opt', direction=\"maximize\")\n",
    "    study.optimize(objective, n_trials=N_TRIALS) \n",
    "    \n",
    "    trial = study.best_trial\n",
    "    \n",
    "    print(\"  Value: {}\".format(trial.value))\n",
    "    \n",
    "    print(\"  Params: \")\n",
    "    for key, value in trial.params.items():\n",
    "        print(\"    {}: {}\".format(key, value))\n",
    "else:\n",
    "    trial = {\"reg_alpha\": 0.362136938773081,\n",
    "             \"reg_lambda\": 2.930297242488071,\n",
    "             \"max_depth\": 10,\n",
    "             \"n_estimators\": 306,\n",
    "             \"num_leaves\": 71,\n",
    "             \"colsample_bytree\": 0.7121396258381646,\n",
    "             \"subsample\": 0.793959734582999,\n",
    "             \"subsample_freq\": 2,\n",
    "             \"min_child_samples\": 18}"
   ]
  },
  {
   "cell_type": "markdown",
   "metadata": {
    "papermill": {
     "duration": 0.357342,
     "end_time": "2021-03-03T22:06:16.451709",
     "exception": false,
     "start_time": "2021-03-03T22:06:16.094367",
     "status": "completed"
    },
    "tags": []
   },
   "source": [
    "Best Params: \n",
    "    \n",
    "    reg_alpha: 0.362136938773081\n",
    "    reg_lambda: 2.930297242488071\n",
    "    max_depth: 10\n",
    "    n_estimators: 306\n",
    "    num_leaves: 71\n",
    "    colsample_bytree: 0.7121396258381646\n",
    "    subsample: 0.793959734582999\n",
    "    subsample_freq: 2\n",
    "    min_child_samples: 18"
   ]
  },
  {
   "cell_type": "code",
   "execution_count": 10,
   "metadata": {
    "execution": {
     "iopub.execute_input": "2021-03-03T22:06:17.090233Z",
     "iopub.status.busy": "2021-03-03T22:06:17.089360Z",
     "iopub.status.idle": "2021-03-03T22:06:17.092546Z",
     "shell.execute_reply": "2021-03-03T22:06:17.091886Z"
    },
    "papermill": {
     "duration": 0.359068,
     "end_time": "2021-03-03T22:06:17.092685",
     "exception": false,
     "start_time": "2021-03-03T22:06:16.733617",
     "status": "completed"
    },
    "tags": []
   },
   "outputs": [],
   "source": [
    "if OPTUNA_OPTIMIZATION:\n",
    "    final_model = LGBMClassifier(**trial.params)\n",
    "else:\n",
    "    final_model = LGBMClassifier(**trial)"
   ]
  },
  {
   "cell_type": "code",
   "execution_count": 11,
   "metadata": {
    "execution": {
     "iopub.execute_input": "2021-03-03T22:06:17.886894Z",
     "iopub.status.busy": "2021-03-03T22:06:17.886231Z",
     "iopub.status.idle": "2021-03-03T22:14:45.822869Z",
     "shell.execute_reply": "2021-03-03T22:14:45.822293Z"
    },
    "papermill": {
     "duration": 508.307174,
     "end_time": "2021-03-03T22:14:45.823041",
     "exception": false,
     "start_time": "2021-03-03T22:06:17.515867",
     "status": "completed"
    },
    "tags": []
   },
   "outputs": [
    {
     "name": "stdout",
     "output_type": "stream",
     "text": [
      "Fitted LGBMClassifier\n",
      "Fold: 0\t Validation AUC: 0.7813630335680872\n",
      "\n",
      "Fitted LGBMClassifier\n",
      "Fold: 1\t Validation AUC: 0.7797455076230869\n",
      "\n",
      "Fitted LGBMClassifier\n",
      "Fold: 2\t Validation AUC: 0.7801258351038276\n",
      "\n",
      "Fitted LGBMClassifier\n",
      "Fold: 3\t Validation AUC: 0.7765705729142831\n",
      "\n",
      "Fitted LGBMClassifier\n",
      "Fold: 4\t Validation AUC: 0.7798306360624886\n",
      "\n",
      "Fitted LGBMClassifier\n",
      "Fold: 5\t Validation AUC: 0.7797695544955657\n",
      "\n",
      "Fitted LGBMClassifier\n",
      "Fold: 6\t Validation AUC: 0.778813192002396\n",
      "\n",
      "Fitted LGBMClassifier\n",
      "Fold: 7\t Validation AUC: 0.7770425227454083\n",
      "\n",
      "Fitted LGBMClassifier\n",
      "Fold: 8\t Validation AUC: 0.7792939183142692\n",
      "\n",
      "Fitted LGBMClassifier\n",
      "Fold: 9\t Validation AUC: 0.7769395743604536\n",
      "\n",
      "Best Parameters mean AUC: 0.7789494347189867\n"
     ]
    }
   ],
   "source": [
    "test_preds = []\n",
    "\n",
    "skf = StratifiedKFold(N_SPLITS, shuffle = True, random_state = 29)\n",
    "aucs = []\n",
    "for kfold, (train_idx, val_idx) in enumerate(skf.split(train_preprocessed[features].values, \n",
    "                                                      train_preprocessed['target'].values)):\n",
    "        \n",
    "        final_model.fit(train_preprocessed.loc[train_idx, features], train_preprocessed.loc[train_idx, 'target'])\n",
    "        print('Fitted {}'.format(type(final_model).__name__))\n",
    "        val_true = train.loc[val_idx, 'target'].values\n",
    "        \n",
    "        preds = final_model.predict(train_preprocessed.loc[val_idx, features])\n",
    "        \n",
    "        auc = roc_auc_score(val_true, preds)\n",
    "        aucs.append(auc)\n",
    "        print('Fold: {}\\t Validation AUC: {}\\n'.format(kfold, auc))\n",
    "        \n",
    "        test_preds.append(final_model.predict_proba(test_preprocessed[features])[:, 1])\n",
    "        \n",
    "print(\"Best Parameters mean AUC: {}\".format(np.mean(aucs)))"
   ]
  },
  {
   "cell_type": "markdown",
   "metadata": {
    "papermill": {
     "duration": 0.297369,
     "end_time": "2021-03-03T22:14:46.489026",
     "exception": false,
     "start_time": "2021-03-03T22:14:46.191657",
     "status": "completed"
    },
    "tags": []
   },
   "source": [
    "<a id = \"submission\"></a>\n",
    "\n",
    "### Submission"
   ]
  },
  {
   "cell_type": "code",
   "execution_count": 12,
   "metadata": {
    "execution": {
     "iopub.execute_input": "2021-03-03T22:14:47.104724Z",
     "iopub.status.busy": "2021-03-03T22:14:47.104086Z",
     "iopub.status.idle": "2021-03-03T22:14:47.113488Z",
     "shell.execute_reply": "2021-03-03T22:14:47.112917Z"
    },
    "papermill": {
     "duration": 0.365254,
     "end_time": "2021-03-03T22:14:47.113626",
     "exception": false,
     "start_time": "2021-03-03T22:14:46.748372",
     "status": "completed"
    },
    "tags": []
   },
   "outputs": [],
   "source": [
    "test_predictions = np.mean(test_preds, axis = 0)"
   ]
  },
  {
   "cell_type": "code",
   "execution_count": 13,
   "metadata": {
    "execution": {
     "iopub.execute_input": "2021-03-03T22:14:47.852703Z",
     "iopub.status.busy": "2021-03-03T22:14:47.851925Z",
     "iopub.status.idle": "2021-03-03T22:14:47.856348Z",
     "shell.execute_reply": "2021-03-03T22:14:47.857067Z"
    },
    "papermill": {
     "duration": 0.376951,
     "end_time": "2021-03-03T22:14:47.857295",
     "exception": false,
     "start_time": "2021-03-03T22:14:47.480344",
     "status": "completed"
    },
    "tags": []
   },
   "outputs": [
    {
     "data": {
      "text/plain": [
       "True"
      ]
     },
     "execution_count": 13,
     "metadata": {},
     "output_type": "execute_result"
    }
   ],
   "source": [
    "len(test_predictions) == len(test)"
   ]
  },
  {
   "cell_type": "code",
   "execution_count": 14,
   "metadata": {
    "execution": {
     "iopub.execute_input": "2021-03-03T22:14:48.996342Z",
     "iopub.status.busy": "2021-03-03T22:14:48.995507Z",
     "iopub.status.idle": "2021-03-03T22:14:49.553414Z",
     "shell.execute_reply": "2021-03-03T22:14:49.552260Z"
    },
    "papermill": {
     "duration": 1.129037,
     "end_time": "2021-03-03T22:14:49.553661",
     "exception": false,
     "start_time": "2021-03-03T22:14:48.424624",
     "status": "completed"
    },
    "tags": []
   },
   "outputs": [],
   "source": [
    "sample_submission['target'] = test_predictions\n",
    "\n",
    "sample_submission.to_csv(\"submission.csv\", index = False)"
   ]
  },
  {
   "cell_type": "code",
   "execution_count": null,
   "metadata": {
    "papermill": {
     "duration": 0.5664,
     "end_time": "2021-03-03T22:14:50.680618",
     "exception": false,
     "start_time": "2021-03-03T22:14:50.114218",
     "status": "completed"
    },
    "tags": []
   },
   "outputs": [],
   "source": []
  }
 ],
 "metadata": {
  "kernelspec": {
   "display_name": "Python 3",
   "language": "python",
   "name": "python3"
  },
  "language_info": {
   "codemirror_mode": {
    "name": "ipython",
    "version": 3
   },
   "file_extension": ".py",
   "mimetype": "text/x-python",
   "name": "python",
   "nbconvert_exporter": "python",
   "pygments_lexer": "ipython3",
   "version": "3.8.4"
  },
  "papermill": {
   "default_parameters": {},
   "duration": 19067.684192,
   "end_time": "2021-03-03T22:14:51.964054",
   "environment_variables": {},
   "exception": null,
   "input_path": "__notebook__.ipynb",
   "output_path": "__notebook__.ipynb",
   "parameters": {},
   "start_time": "2021-03-03T16:57:04.279862",
   "version": "2.2.2"
  }
 },
 "nbformat": 4,
 "nbformat_minor": 4
}
