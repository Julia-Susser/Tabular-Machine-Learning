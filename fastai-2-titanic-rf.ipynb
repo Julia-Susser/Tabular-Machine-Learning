{
 "cells": [
  {
   "cell_type": "markdown",
   "metadata": {
    "papermill": {
     "duration": 0.022373,
     "end_time": "2020-12-23T08:36:26.173354",
     "exception": false,
     "start_time": "2020-12-23T08:36:26.150981",
     "status": "completed"
    },
    "tags": []
   },
   "source": [
    "This notebook took https://www.kaggle.com/hitesh1724/titanic-1-fastai-beginner-tutorial/ as reference.\n",
    "\n",
    "The notebook uses TabularPandas in fastai2 to help manage the datasets, and use sklearn's RandomForestClassifier to create a classification model.\n",
    "\n",
    "If you have any questions, ask away!"
   ]
  },
  {
   "cell_type": "markdown",
   "metadata": {
    "papermill": {
     "duration": 0.020597,
     "end_time": "2020-12-23T08:36:26.215403",
     "exception": false,
     "start_time": "2020-12-23T08:36:26.194806",
     "status": "completed"
    },
    "tags": []
   },
   "source": [
    "# Preparation"
   ]
  },
  {
   "cell_type": "markdown",
   "metadata": {
    "papermill": {
     "duration": 0.020654,
     "end_time": "2020-12-23T08:36:26.257030",
     "exception": false,
     "start_time": "2020-12-23T08:36:26.236376",
     "status": "completed"
    },
    "tags": []
   },
   "source": [
    "## Environment Check"
   ]
  },
  {
   "cell_type": "markdown",
   "metadata": {
    "papermill": {
     "duration": 0.020648,
     "end_time": "2020-12-23T08:36:26.298564",
     "exception": false,
     "start_time": "2020-12-23T08:36:26.277916",
     "status": "completed"
    },
    "tags": []
   },
   "source": [
    "### Check datasets"
   ]
  },
  {
   "cell_type": "markdown",
   "metadata": {
    "papermill": {
     "duration": 0.020712,
     "end_time": "2020-12-23T08:36:26.340494",
     "exception": false,
     "start_time": "2020-12-23T08:36:26.319782",
     "status": "completed"
    },
    "tags": []
   },
   "source": [
    "To have a more accurate result, use titanic-extended dataset provided in https://www.kaggle.com/pavlofesenko/titanic-extended."
   ]
  },
  {
   "cell_type": "code",
   "execution_count": 1,
   "metadata": {
    "execution": {
     "iopub.execute_input": "2020-12-23T08:36:26.386237Z",
     "iopub.status.busy": "2020-12-23T08:36:26.385506Z",
     "iopub.status.idle": "2020-12-23T08:36:26.410776Z",
     "shell.execute_reply": "2020-12-23T08:36:26.411937Z"
    },
    "papermill": {
     "duration": 0.050816,
     "end_time": "2020-12-23T08:36:26.412217",
     "exception": false,
     "start_time": "2020-12-23T08:36:26.361401",
     "status": "completed"
    },
    "tags": []
   },
   "outputs": [
    {
     "name": "stdout",
     "output_type": "stream",
     "text": [
      "../input/one_hot_train.csv\n",
      "../input/test.csv\n",
      "../input/one_hot_test.csv\n",
      "../input/train.csv\n",
      "../input/y.csv\n",
      "../input/sample_submission.csv\n"
     ]
    }
   ],
   "source": [
    "# This Python 3 environment comes with many helpful analytics libraries installed\n",
    "# It is defined by the kaggle/python Docker image: https://github.com/kaggle/docker-python\n",
    "# For example, here's several helpful packages to load\n",
    "\n",
    "import numpy as np # linear algebra\n",
    "import pandas as pd # data processing, CSV file I/O (e.g. pd.read_csv)\n",
    "\n",
    "# Input data files are available in the read-only \"../input/\" directory\n",
    "# For example, running this (by clicking run or pressing Shift+Enter) will list all files under the input directory\n",
    "\n",
    "import os\n",
    "for dirname, _, filenames in os.walk('../input'):\n",
    "    for filename in filenames:\n",
    "        print(os.path.join(dirname, filename))\n",
    "\n",
    "# You can write up to 5GB to the current directory (/kaggle/working/) that gets preserved as output when you create a version using \"Save & Run All\" \n",
    "# You can also write temporary files to /kaggle/temp/, but they won't be saved outside of the current session"
   ]
  },
  {
   "cell_type": "markdown",
   "metadata": {
    "papermill": {
     "duration": 0.021501,
     "end_time": "2020-12-23T08:36:26.457014",
     "exception": false,
     "start_time": "2020-12-23T08:36:26.435513",
     "status": "completed"
    },
    "tags": []
   },
   "source": [
    "### Check fastai version"
   ]
  },
  {
   "cell_type": "code",
   "execution_count": 2,
   "metadata": {
    "_cell_guid": "79c7e3d0-c299-4dcb-8224-4455121ee9b0",
    "_uuid": "d629ff2d2480ee46fbb7e2d37f6b5fab8052498a",
    "execution": {
     "iopub.execute_input": "2020-12-23T08:36:26.504459Z",
     "iopub.status.busy": "2020-12-23T08:36:26.503444Z",
     "iopub.status.idle": "2020-12-23T08:36:26.515745Z",
     "shell.execute_reply": "2020-12-23T08:36:26.515060Z"
    },
    "papermill": {
     "duration": 0.03714,
     "end_time": "2020-12-23T08:36:26.515883",
     "exception": false,
     "start_time": "2020-12-23T08:36:26.478743",
     "status": "completed"
    },
    "tags": []
   },
   "outputs": [
    {
     "data": {
      "text/plain": [
       "'2.2.7'"
      ]
     },
     "execution_count": 2,
     "metadata": {},
     "output_type": "execute_result"
    }
   ],
   "source": [
    "import fastai\n",
    "fastai.__version__ "
   ]
  },
  {
   "cell_type": "markdown",
   "metadata": {
    "papermill": {
     "duration": 0.02225,
     "end_time": "2020-12-23T08:36:26.560560",
     "exception": false,
     "start_time": "2020-12-23T08:36:26.538310",
     "status": "completed"
    },
    "tags": []
   },
   "source": [
    "## Import library"
   ]
  },
  {
   "cell_type": "code",
   "execution_count": 3,
   "metadata": {
    "execution": {
     "iopub.execute_input": "2020-12-23T08:36:26.611038Z",
     "iopub.status.busy": "2020-12-23T08:36:26.610222Z",
     "iopub.status.idle": "2020-12-23T08:36:29.507103Z",
     "shell.execute_reply": "2020-12-23T08:36:29.506451Z"
    },
    "papermill": {
     "duration": 2.924435,
     "end_time": "2020-12-23T08:36:29.507236",
     "exception": false,
     "start_time": "2020-12-23T08:36:26.582801",
     "status": "completed"
    },
    "tags": []
   },
   "outputs": [],
   "source": [
    "from fastai import *\n",
    "from fastai.tabular.all import *\n",
    "\n",
    "pd.options.display.max_rows = 20\n",
    "pd.options.display.max_columns = None"
   ]
  },
  {
   "cell_type": "markdown",
   "metadata": {
    "papermill": {
     "duration": 0.021844,
     "end_time": "2020-12-23T08:36:29.551813",
     "exception": false,
     "start_time": "2020-12-23T08:36:29.529969",
     "status": "completed"
    },
    "tags": []
   },
   "source": [
    "# Datasets Handling"
   ]
  },
  {
   "cell_type": "code",
   "execution_count": 4,
   "metadata": {
    "execution": {
     "iopub.execute_input": "2020-12-23T08:36:29.601798Z",
     "iopub.status.busy": "2020-12-23T08:36:29.601134Z",
     "iopub.status.idle": "2020-12-23T08:36:29.604518Z",
     "shell.execute_reply": "2020-12-23T08:36:29.603999Z"
    },
    "papermill": {
     "duration": 0.030523,
     "end_time": "2020-12-23T08:36:29.604636",
     "exception": false,
     "start_time": "2020-12-23T08:36:29.574113",
     "status": "completed"
    },
    "tags": []
   },
   "outputs": [],
   "source": [
    "path = Path('../input')"
   ]
  },
  {
   "cell_type": "code",
   "execution_count": 5,
   "metadata": {
    "execution": {
     "iopub.execute_input": "2020-12-23T08:36:29.656347Z",
     "iopub.status.busy": "2020-12-23T08:36:29.654816Z",
     "iopub.status.idle": "2020-12-23T08:36:29.660953Z",
     "shell.execute_reply": "2020-12-23T08:36:29.660279Z"
    },
    "papermill": {
     "duration": 0.034107,
     "end_time": "2020-12-23T08:36:29.661076",
     "exception": false,
     "start_time": "2020-12-23T08:36:29.626969",
     "status": "completed"
    },
    "tags": []
   },
   "outputs": [
    {
     "data": {
      "text/plain": [
       "(#6) [Path('../input/one_hot_train.csv'),Path('../input/test.csv'),Path('../input/one_hot_test.csv'),Path('../input/train.csv'),Path('../input/y.csv'),Path('../input/sample_submission.csv')]"
      ]
     },
     "execution_count": 5,
     "metadata": {},
     "output_type": "execute_result"
    }
   ],
   "source": [
    "path.ls()"
   ]
  },
  {
   "cell_type": "code",
   "execution_count": 6,
   "metadata": {
    "execution": {
     "iopub.execute_input": "2020-12-23T08:36:29.716886Z",
     "iopub.status.busy": "2020-12-23T08:36:29.716196Z",
     "iopub.status.idle": "2020-12-23T08:36:29.756945Z",
     "shell.execute_reply": "2020-12-23T08:36:29.756281Z"
    },
    "papermill": {
     "duration": 0.069898,
     "end_time": "2020-12-23T08:36:29.757078",
     "exception": false,
     "start_time": "2020-12-23T08:36:29.687180",
     "status": "completed"
    },
    "tags": []
   },
   "outputs": [],
   "source": [
    "df = pd.read_csv(path/'train.csv', low_memory=False)\n",
    "df_test = pd.read_csv(path/'test.csv', low_memory=False)"
   ]
  },
  {
   "cell_type": "code",
   "execution_count": 7,
   "metadata": {
    "execution": {
     "iopub.execute_input": "2020-12-23T08:36:29.827359Z",
     "iopub.status.busy": "2020-12-23T08:36:29.819317Z",
     "iopub.status.idle": "2020-12-23T08:36:29.855407Z",
     "shell.execute_reply": "2020-12-23T08:36:29.854704Z"
    },
    "papermill": {
     "duration": 0.074678,
     "end_time": "2020-12-23T08:36:29.855534",
     "exception": false,
     "start_time": "2020-12-23T08:36:29.780856",
     "status": "completed"
    },
    "tags": []
   },
   "outputs": [
    {
     "data": {
      "text/html": [
       "<div>\n",
       "<style scoped>\n",
       "    .dataframe tbody tr th:only-of-type {\n",
       "        vertical-align: middle;\n",
       "    }\n",
       "\n",
       "    .dataframe tbody tr th {\n",
       "        vertical-align: top;\n",
       "    }\n",
       "\n",
       "    .dataframe thead th {\n",
       "        text-align: right;\n",
       "    }\n",
       "</style>\n",
       "<table border=\"1\" class=\"dataframe\">\n",
       "  <thead>\n",
       "    <tr style=\"text-align: right;\">\n",
       "      <th></th>\n",
       "      <th>id</th>\n",
       "      <th>cat0</th>\n",
       "      <th>cat1</th>\n",
       "      <th>cat2</th>\n",
       "      <th>cat3</th>\n",
       "      <th>cat4</th>\n",
       "      <th>cat5</th>\n",
       "      <th>cat6</th>\n",
       "      <th>cat7</th>\n",
       "      <th>cat8</th>\n",
       "      <th>cat9</th>\n",
       "      <th>cat10</th>\n",
       "      <th>cat11</th>\n",
       "      <th>cat12</th>\n",
       "      <th>cat13</th>\n",
       "      <th>cat14</th>\n",
       "      <th>cat15</th>\n",
       "      <th>cat16</th>\n",
       "      <th>cat17</th>\n",
       "      <th>cat18</th>\n",
       "      <th>cont0</th>\n",
       "      <th>cont1</th>\n",
       "      <th>cont2</th>\n",
       "      <th>cont3</th>\n",
       "      <th>cont4</th>\n",
       "      <th>cont5</th>\n",
       "      <th>cont6</th>\n",
       "      <th>cont7</th>\n",
       "      <th>cont8</th>\n",
       "      <th>cont9</th>\n",
       "      <th>cont10</th>\n",
       "      <th>target</th>\n",
       "    </tr>\n",
       "  </thead>\n",
       "  <tbody>\n",
       "    <tr>\n",
       "      <th>0</th>\n",
       "      <td>0</td>\n",
       "      <td>A</td>\n",
       "      <td>I</td>\n",
       "      <td>A</td>\n",
       "      <td>B</td>\n",
       "      <td>B</td>\n",
       "      <td>BI</td>\n",
       "      <td>A</td>\n",
       "      <td>S</td>\n",
       "      <td>Q</td>\n",
       "      <td>A</td>\n",
       "      <td>LO</td>\n",
       "      <td>A</td>\n",
       "      <td>A</td>\n",
       "      <td>A</td>\n",
       "      <td>A</td>\n",
       "      <td>B</td>\n",
       "      <td>D</td>\n",
       "      <td>D</td>\n",
       "      <td>B</td>\n",
       "      <td>0.629858</td>\n",
       "      <td>0.855349</td>\n",
       "      <td>0.759439</td>\n",
       "      <td>0.795549</td>\n",
       "      <td>0.681917</td>\n",
       "      <td>0.621672</td>\n",
       "      <td>0.592184</td>\n",
       "      <td>0.791921</td>\n",
       "      <td>0.815254</td>\n",
       "      <td>0.965006</td>\n",
       "      <td>0.665915</td>\n",
       "      <td>0</td>\n",
       "    </tr>\n",
       "    <tr>\n",
       "      <th>1</th>\n",
       "      <td>1</td>\n",
       "      <td>A</td>\n",
       "      <td>I</td>\n",
       "      <td>A</td>\n",
       "      <td>A</td>\n",
       "      <td>E</td>\n",
       "      <td>BI</td>\n",
       "      <td>K</td>\n",
       "      <td>W</td>\n",
       "      <td>AD</td>\n",
       "      <td>F</td>\n",
       "      <td>HJ</td>\n",
       "      <td>A</td>\n",
       "      <td>B</td>\n",
       "      <td>A</td>\n",
       "      <td>B</td>\n",
       "      <td>D</td>\n",
       "      <td>B</td>\n",
       "      <td>D</td>\n",
       "      <td>B</td>\n",
       "      <td>0.370727</td>\n",
       "      <td>0.328929</td>\n",
       "      <td>0.386385</td>\n",
       "      <td>0.541366</td>\n",
       "      <td>0.388982</td>\n",
       "      <td>0.357778</td>\n",
       "      <td>0.600044</td>\n",
       "      <td>0.408701</td>\n",
       "      <td>0.399353</td>\n",
       "      <td>0.927406</td>\n",
       "      <td>0.493729</td>\n",
       "      <td>0</td>\n",
       "    </tr>\n",
       "    <tr>\n",
       "      <th>2</th>\n",
       "      <td>2</td>\n",
       "      <td>A</td>\n",
       "      <td>K</td>\n",
       "      <td>A</td>\n",
       "      <td>A</td>\n",
       "      <td>E</td>\n",
       "      <td>BI</td>\n",
       "      <td>A</td>\n",
       "      <td>E</td>\n",
       "      <td>BM</td>\n",
       "      <td>L</td>\n",
       "      <td>DJ</td>\n",
       "      <td>A</td>\n",
       "      <td>B</td>\n",
       "      <td>A</td>\n",
       "      <td>A</td>\n",
       "      <td>B</td>\n",
       "      <td>D</td>\n",
       "      <td>D</td>\n",
       "      <td>B</td>\n",
       "      <td>0.502272</td>\n",
       "      <td>0.322749</td>\n",
       "      <td>0.343255</td>\n",
       "      <td>0.616352</td>\n",
       "      <td>0.793687</td>\n",
       "      <td>0.552877</td>\n",
       "      <td>0.352113</td>\n",
       "      <td>0.388835</td>\n",
       "      <td>0.412303</td>\n",
       "      <td>0.292696</td>\n",
       "      <td>0.549452</td>\n",
       "      <td>0</td>\n",
       "    </tr>\n",
       "    <tr>\n",
       "      <th>3</th>\n",
       "      <td>3</td>\n",
       "      <td>A</td>\n",
       "      <td>K</td>\n",
       "      <td>A</td>\n",
       "      <td>C</td>\n",
       "      <td>E</td>\n",
       "      <td>BI</td>\n",
       "      <td>A</td>\n",
       "      <td>Y</td>\n",
       "      <td>AD</td>\n",
       "      <td>F</td>\n",
       "      <td>KV</td>\n",
       "      <td>A</td>\n",
       "      <td>A</td>\n",
       "      <td>A</td>\n",
       "      <td>A</td>\n",
       "      <td>B</td>\n",
       "      <td>D</td>\n",
       "      <td>D</td>\n",
       "      <td>B</td>\n",
       "      <td>0.934242</td>\n",
       "      <td>0.707663</td>\n",
       "      <td>0.831147</td>\n",
       "      <td>0.807807</td>\n",
       "      <td>0.800032</td>\n",
       "      <td>0.619147</td>\n",
       "      <td>0.221789</td>\n",
       "      <td>0.897617</td>\n",
       "      <td>0.633669</td>\n",
       "      <td>0.760318</td>\n",
       "      <td>0.934242</td>\n",
       "      <td>0</td>\n",
       "    </tr>\n",
       "    <tr>\n",
       "      <th>4</th>\n",
       "      <td>4</td>\n",
       "      <td>A</td>\n",
       "      <td>I</td>\n",
       "      <td>G</td>\n",
       "      <td>B</td>\n",
       "      <td>E</td>\n",
       "      <td>BI</td>\n",
       "      <td>C</td>\n",
       "      <td>G</td>\n",
       "      <td>Q</td>\n",
       "      <td>A</td>\n",
       "      <td>DP</td>\n",
       "      <td>A</td>\n",
       "      <td>A</td>\n",
       "      <td>A</td>\n",
       "      <td>B</td>\n",
       "      <td>B</td>\n",
       "      <td>B</td>\n",
       "      <td>D</td>\n",
       "      <td>B</td>\n",
       "      <td>0.254427</td>\n",
       "      <td>0.274514</td>\n",
       "      <td>0.338818</td>\n",
       "      <td>0.277308</td>\n",
       "      <td>0.610578</td>\n",
       "      <td>0.128291</td>\n",
       "      <td>0.578764</td>\n",
       "      <td>0.279167</td>\n",
       "      <td>0.351103</td>\n",
       "      <td>0.357084</td>\n",
       "      <td>0.328960</td>\n",
       "      <td>1</td>\n",
       "    </tr>\n",
       "  </tbody>\n",
       "</table>\n",
       "</div>"
      ],
      "text/plain": [
       "   id cat0 cat1 cat2 cat3 cat4 cat5 cat6 cat7 cat8 cat9 cat10 cat11 cat12  \\\n",
       "0   0    A    I    A    B    B   BI    A    S    Q    A    LO     A     A   \n",
       "1   1    A    I    A    A    E   BI    K    W   AD    F    HJ     A     B   \n",
       "2   2    A    K    A    A    E   BI    A    E   BM    L    DJ     A     B   \n",
       "3   3    A    K    A    C    E   BI    A    Y   AD    F    KV     A     A   \n",
       "4   4    A    I    G    B    E   BI    C    G    Q    A    DP     A     A   \n",
       "\n",
       "  cat13 cat14 cat15 cat16 cat17 cat18     cont0     cont1     cont2     cont3  \\\n",
       "0     A     A     B     D     D     B  0.629858  0.855349  0.759439  0.795549   \n",
       "1     A     B     D     B     D     B  0.370727  0.328929  0.386385  0.541366   \n",
       "2     A     A     B     D     D     B  0.502272  0.322749  0.343255  0.616352   \n",
       "3     A     A     B     D     D     B  0.934242  0.707663  0.831147  0.807807   \n",
       "4     A     B     B     B     D     B  0.254427  0.274514  0.338818  0.277308   \n",
       "\n",
       "      cont4     cont5     cont6     cont7     cont8     cont9    cont10  \\\n",
       "0  0.681917  0.621672  0.592184  0.791921  0.815254  0.965006  0.665915   \n",
       "1  0.388982  0.357778  0.600044  0.408701  0.399353  0.927406  0.493729   \n",
       "2  0.793687  0.552877  0.352113  0.388835  0.412303  0.292696  0.549452   \n",
       "3  0.800032  0.619147  0.221789  0.897617  0.633669  0.760318  0.934242   \n",
       "4  0.610578  0.128291  0.578764  0.279167  0.351103  0.357084  0.328960   \n",
       "\n",
       "   target  \n",
       "0       0  \n",
       "1       0  \n",
       "2       0  \n",
       "3       0  \n",
       "4       1  "
      ]
     },
     "execution_count": 7,
     "metadata": {},
     "output_type": "execute_result"
    }
   ],
   "source": [
    "df.head()"
   ]
  },
  {
   "cell_type": "markdown",
   "metadata": {
    "papermill": {
     "duration": 0.024694,
     "end_time": "2020-12-23T08:36:29.913389",
     "exception": false,
     "start_time": "2020-12-23T08:36:29.888695",
     "status": "completed"
    },
    "tags": []
   },
   "source": [
    "## Create TabularPandas"
   ]
  },
  {
   "cell_type": "code",
   "execution_count": 8,
   "metadata": {
    "execution": {
     "iopub.execute_input": "2020-12-23T08:36:29.982000Z",
     "iopub.status.busy": "2020-12-23T08:36:29.980903Z",
     "iopub.status.idle": "2020-12-23T08:36:29.984819Z",
     "shell.execute_reply": "2020-12-23T08:36:29.985569Z"
    },
    "papermill": {
     "duration": 0.039348,
     "end_time": "2020-12-23T08:36:29.985795",
     "exception": false,
     "start_time": "2020-12-23T08:36:29.946447",
     "status": "completed"
    },
    "tags": []
   },
   "outputs": [],
   "source": [
    "procs = [Categorify, FillMissing] # RF does not need `Normalize`"
   ]
  },
  {
   "cell_type": "code",
   "execution_count": 9,
   "metadata": {
    "execution": {
     "iopub.execute_input": "2020-12-23T08:36:30.047002Z",
     "iopub.status.busy": "2020-12-23T08:36:30.046282Z",
     "iopub.status.idle": "2020-12-23T08:36:30.066782Z",
     "shell.execute_reply": "2020-12-23T08:36:30.067391Z"
    },
    "papermill": {
     "duration": 0.052139,
     "end_time": "2020-12-23T08:36:30.067545",
     "exception": false,
     "start_time": "2020-12-23T08:36:30.015406",
     "status": "completed"
    },
    "tags": []
   },
   "outputs": [],
   "source": [
    "splits = RandomSplitter(valid_pct=0.2)(range_of(df))"
   ]
  },
  {
   "cell_type": "code",
   "execution_count": 10,
   "metadata": {
    "execution": {
     "iopub.execute_input": "2020-12-23T08:36:30.151738Z",
     "iopub.status.busy": "2020-12-23T08:36:30.150478Z",
     "iopub.status.idle": "2020-12-23T08:36:30.153033Z",
     "shell.execute_reply": "2020-12-23T08:36:30.154002Z"
    },
    "papermill": {
     "duration": 0.059609,
     "end_time": "2020-12-23T08:36:30.154241",
     "exception": false,
     "start_time": "2020-12-23T08:36:30.094632",
     "status": "completed"
    },
    "tags": []
   },
   "outputs": [],
   "source": [
    "dep_var='target'"
   ]
  },
  {
   "cell_type": "code",
   "execution_count": 11,
   "metadata": {
    "execution": {
     "iopub.execute_input": "2020-12-23T08:36:30.242647Z",
     "iopub.status.busy": "2020-12-23T08:36:30.241883Z",
     "iopub.status.idle": "2020-12-23T08:36:30.250698Z",
     "shell.execute_reply": "2020-12-23T08:36:30.251382Z"
    },
    "papermill": {
     "duration": 0.051107,
     "end_time": "2020-12-23T08:36:30.251546",
     "exception": false,
     "start_time": "2020-12-23T08:36:30.200439",
     "status": "completed"
    },
    "tags": []
   },
   "outputs": [],
   "source": [
    "cont,cat = cont_cat_split(df, 1, dep_var=dep_var)"
   ]
  },
  {
   "cell_type": "code",
   "execution_count": 12,
   "metadata": {
    "execution": {
     "iopub.execute_input": "2020-12-23T08:36:30.307621Z",
     "iopub.status.busy": "2020-12-23T08:36:30.306566Z",
     "iopub.status.idle": "2020-12-23T08:36:30.311056Z",
     "shell.execute_reply": "2020-12-23T08:36:30.311680Z"
    },
    "papermill": {
     "duration": 0.035421,
     "end_time": "2020-12-23T08:36:30.311849",
     "exception": false,
     "start_time": "2020-12-23T08:36:30.276428",
     "status": "completed"
    },
    "tags": []
   },
   "outputs": [
    {
     "data": {
      "text/plain": [
       "['id',\n",
       " 'cont0',\n",
       " 'cont1',\n",
       " 'cont2',\n",
       " 'cont3',\n",
       " 'cont4',\n",
       " 'cont5',\n",
       " 'cont6',\n",
       " 'cont7',\n",
       " 'cont8',\n",
       " 'cont9',\n",
       " 'cont10']"
      ]
     },
     "execution_count": 12,
     "metadata": {},
     "output_type": "execute_result"
    }
   ],
   "source": [
    "cont"
   ]
  },
  {
   "cell_type": "code",
   "execution_count": 13,
   "metadata": {
    "execution": {
     "iopub.execute_input": "2020-12-23T08:36:30.366555Z",
     "iopub.status.busy": "2020-12-23T08:36:30.365510Z",
     "iopub.status.idle": "2020-12-23T08:36:30.371328Z",
     "shell.execute_reply": "2020-12-23T08:36:30.371889Z"
    },
    "papermill": {
     "duration": 0.034648,
     "end_time": "2020-12-23T08:36:30.372031",
     "exception": false,
     "start_time": "2020-12-23T08:36:30.337383",
     "status": "completed"
    },
    "tags": []
   },
   "outputs": [
    {
     "data": {
      "text/plain": [
       "['cat0',\n",
       " 'cat1',\n",
       " 'cat2',\n",
       " 'cat3',\n",
       " 'cat4',\n",
       " 'cat5',\n",
       " 'cat6',\n",
       " 'cat7',\n",
       " 'cat8',\n",
       " 'cat9',\n",
       " 'cat10',\n",
       " 'cat11',\n",
       " 'cat12',\n",
       " 'cat13',\n",
       " 'cat14',\n",
       " 'cat15',\n",
       " 'cat16',\n",
       " 'cat17',\n",
       " 'cat18']"
      ]
     },
     "execution_count": 13,
     "metadata": {},
     "output_type": "execute_result"
    }
   ],
   "source": [
    "cat"
   ]
  },
  {
   "cell_type": "code",
   "execution_count": 14,
   "metadata": {
    "execution": {
     "iopub.execute_input": "2020-12-23T08:36:30.427130Z",
     "iopub.status.busy": "2020-12-23T08:36:30.426073Z",
     "iopub.status.idle": "2020-12-23T08:36:30.515944Z",
     "shell.execute_reply": "2020-12-23T08:36:30.516604Z"
    },
    "papermill": {
     "duration": 0.119339,
     "end_time": "2020-12-23T08:36:30.516776",
     "exception": false,
     "start_time": "2020-12-23T08:36:30.397437",
     "status": "completed"
    },
    "tags": []
   },
   "outputs": [],
   "source": [
    "to = TabularPandas(df, procs, cat, cont, y_names=dep_var, splits=splits, y_block=CategoryBlock())"
   ]
  },
  {
   "cell_type": "code",
   "execution_count": 15,
   "metadata": {
    "execution": {
     "iopub.execute_input": "2020-12-23T08:36:30.578732Z",
     "iopub.status.busy": "2020-12-23T08:36:30.577648Z",
     "iopub.status.idle": "2020-12-23T08:36:30.620269Z",
     "shell.execute_reply": "2020-12-23T08:36:30.619472Z"
    },
    "papermill": {
     "duration": 0.07481,
     "end_time": "2020-12-23T08:36:30.620425",
     "exception": false,
     "start_time": "2020-12-23T08:36:30.545615",
     "status": "completed"
    },
    "tags": []
   },
   "outputs": [
    {
     "data": {
      "text/html": [
       "<table border=\"1\" class=\"dataframe\">\n",
       "  <thead>\n",
       "    <tr style=\"text-align: right;\">\n",
       "      <th></th>\n",
       "      <th>cat0</th>\n",
       "      <th>cat1</th>\n",
       "      <th>cat2</th>\n",
       "      <th>cat3</th>\n",
       "      <th>cat4</th>\n",
       "      <th>cat5</th>\n",
       "      <th>cat6</th>\n",
       "      <th>cat7</th>\n",
       "      <th>cat8</th>\n",
       "      <th>cat9</th>\n",
       "      <th>cat10</th>\n",
       "      <th>cat11</th>\n",
       "      <th>cat12</th>\n",
       "      <th>cat13</th>\n",
       "      <th>cat14</th>\n",
       "      <th>cat15</th>\n",
       "      <th>cat16</th>\n",
       "      <th>cat17</th>\n",
       "      <th>cat18</th>\n",
       "      <th>id</th>\n",
       "      <th>cont0</th>\n",
       "      <th>cont1</th>\n",
       "      <th>cont2</th>\n",
       "      <th>cont3</th>\n",
       "      <th>cont4</th>\n",
       "      <th>cont5</th>\n",
       "      <th>cont6</th>\n",
       "      <th>cont7</th>\n",
       "      <th>cont8</th>\n",
       "      <th>cont9</th>\n",
       "      <th>cont10</th>\n",
       "      <th>target</th>\n",
       "    </tr>\n",
       "  </thead>\n",
       "  <tbody>\n",
       "    <tr>\n",
       "      <th>208653</th>\n",
       "      <td>A</td>\n",
       "      <td>I</td>\n",
       "      <td>A</td>\n",
       "      <td>A</td>\n",
       "      <td>F</td>\n",
       "      <td>BI</td>\n",
       "      <td>A</td>\n",
       "      <td>E</td>\n",
       "      <td>Q</td>\n",
       "      <td>A</td>\n",
       "      <td>LN</td>\n",
       "      <td>A</td>\n",
       "      <td>A</td>\n",
       "      <td>A</td>\n",
       "      <td>A</td>\n",
       "      <td>B</td>\n",
       "      <td>D</td>\n",
       "      <td>D</td>\n",
       "      <td>B</td>\n",
       "      <td>347883</td>\n",
       "      <td>0.175467</td>\n",
       "      <td>0.286530</td>\n",
       "      <td>0.371006</td>\n",
       "      <td>0.353804</td>\n",
       "      <td>0.798516</td>\n",
       "      <td>0.421779</td>\n",
       "      <td>0.429086</td>\n",
       "      <td>0.391157</td>\n",
       "      <td>0.388384</td>\n",
       "      <td>0.680219</td>\n",
       "      <td>0.404015</td>\n",
       "      <td>1</td>\n",
       "    </tr>\n",
       "    <tr>\n",
       "      <th>78000</th>\n",
       "      <td>A</td>\n",
       "      <td>F</td>\n",
       "      <td>Q</td>\n",
       "      <td>B</td>\n",
       "      <td>F</td>\n",
       "      <td>AB</td>\n",
       "      <td>A</td>\n",
       "      <td>AH</td>\n",
       "      <td>K</td>\n",
       "      <td>A</td>\n",
       "      <td>JK</td>\n",
       "      <td>A</td>\n",
       "      <td>A</td>\n",
       "      <td>A</td>\n",
       "      <td>B</td>\n",
       "      <td>D</td>\n",
       "      <td>B</td>\n",
       "      <td>D</td>\n",
       "      <td>B</td>\n",
       "      <td>130359</td>\n",
       "      <td>0.701511</td>\n",
       "      <td>0.528041</td>\n",
       "      <td>0.494250</td>\n",
       "      <td>0.235237</td>\n",
       "      <td>0.235859</td>\n",
       "      <td>0.083723</td>\n",
       "      <td>0.325783</td>\n",
       "      <td>0.607549</td>\n",
       "      <td>0.371303</td>\n",
       "      <td>0.588315</td>\n",
       "      <td>0.590592</td>\n",
       "      <td>0</td>\n",
       "    </tr>\n",
       "    <tr>\n",
       "      <th>278428</th>\n",
       "      <td>A</td>\n",
       "      <td>G</td>\n",
       "      <td>G</td>\n",
       "      <td>F</td>\n",
       "      <td>E</td>\n",
       "      <td>BI</td>\n",
       "      <td>G</td>\n",
       "      <td>AS</td>\n",
       "      <td>BM</td>\n",
       "      <td>A</td>\n",
       "      <td>CK</td>\n",
       "      <td>B</td>\n",
       "      <td>A</td>\n",
       "      <td>B</td>\n",
       "      <td>B</td>\n",
       "      <td>D</td>\n",
       "      <td>B</td>\n",
       "      <td>B</td>\n",
       "      <td>D</td>\n",
       "      <td>464131</td>\n",
       "      <td>0.323367</td>\n",
       "      <td>0.216466</td>\n",
       "      <td>0.253257</td>\n",
       "      <td>0.569214</td>\n",
       "      <td>0.742850</td>\n",
       "      <td>0.732721</td>\n",
       "      <td>0.735169</td>\n",
       "      <td>0.179033</td>\n",
       "      <td>0.316893</td>\n",
       "      <td>0.262981</td>\n",
       "      <td>0.312343</td>\n",
       "      <td>1</td>\n",
       "    </tr>\n",
       "  </tbody>\n",
       "</table>"
      ],
      "text/plain": [
       "<IPython.core.display.HTML object>"
      ]
     },
     "metadata": {},
     "output_type": "display_data"
    }
   ],
   "source": [
    "to.show(3)"
   ]
  },
  {
   "cell_type": "markdown",
   "metadata": {
    "papermill": {
     "duration": 0.029749,
     "end_time": "2020-12-23T08:36:30.680899",
     "exception": false,
     "start_time": "2020-12-23T08:36:30.651150",
     "status": "completed"
    },
    "tags": []
   },
   "source": [
    "## Create Training Set and Validation Set"
   ]
  },
  {
   "cell_type": "code",
   "execution_count": 16,
   "metadata": {
    "execution": {
     "iopub.execute_input": "2020-12-23T08:36:30.753570Z",
     "iopub.status.busy": "2020-12-23T08:36:30.747950Z",
     "iopub.status.idle": "2020-12-23T08:36:30.755872Z",
     "shell.execute_reply": "2020-12-23T08:36:30.756396Z"
    },
    "papermill": {
     "duration": 0.044868,
     "end_time": "2020-12-23T08:36:30.756541",
     "exception": false,
     "start_time": "2020-12-23T08:36:30.711673",
     "status": "completed"
    },
    "tags": []
   },
   "outputs": [],
   "source": [
    "X_train, y_train = to.train.xs,to.train.y\n",
    "X_valid, y_valid = to.valid.xs,to.valid.y"
   ]
  },
  {
   "cell_type": "markdown",
   "metadata": {
    "papermill": {
     "duration": 0.026598,
     "end_time": "2020-12-23T08:36:30.810146",
     "exception": false,
     "start_time": "2020-12-23T08:36:30.783548",
     "status": "completed"
    },
    "tags": []
   },
   "source": [
    "#  Classifier Model"
   ]
  },
  {
   "cell_type": "code",
   "execution_count": 17,
   "metadata": {},
   "outputs": [],
   "source": [
    "from sklearn.kernel_ridge import KernelRidge\n",
    "from sklearn.ensemble import RandomForestClassifier\n",
    "from sklearn.linear_model import SGDRegressor\n",
    "from sklearn.model_selection import KFold, cross_val_score, train_test_split,StratifiedKFold # Model evaluation\n",
    "from sklearn.preprocessing import LabelEncoder, RobustScaler, OneHotEncoder, StandardScaler # Preprocessing\n",
    "from sklearn.linear_model import Lasso, Ridge, ElasticNet,  LassoLarsIC, RANSACRegressor, SGDRegressor, HuberRegressor, BayesianRidge # Linear models\n",
    "from sklearn.ensemble import RandomForestRegressor, BaggingRegressor, AdaBoostRegressor, GradientBoostingRegressor, ExtraTreesRegressor  # Ensemble methods\n",
    "from xgboost import XGBRegressor, plot_importance # XGBoost\n",
    "from sklearn.svm import SVR, SVC, LinearSVC  # Support Vector Regression\n",
    "from sklearn.tree import DecisionTreeRegressor # Decision Tree Regression\n",
    "from sklearn.neighbors import KNeighborsRegressor\n",
    "from sklearn.pipeline import Pipeline, make_pipeline # Streaming pipelines\n",
    "from sklearn.decomposition import KernelPCA, PCA # Dimensionality reduction\n",
    "from sklearn.feature_selection import SelectFromModel # Dimensionality reduction\n",
    "from sklearn.model_selection import learning_curve, validation_curve, GridSearchCV # Model evaluation\n",
    "from sklearn.base import clone, BaseEstimator, TransformerMixin, RegressorMixin # Clone estimator\n",
    "from sklearn.metrics import mean_squared_error as MSE\n",
    "from sklearn.metrics import explained_variance_score, roc_auc_score, median_absolute_error, r2_score, mean_squared_error #To evaluate our model\n",
    "from sklearn.metrics import accuracy_score, confusion_matrix, classification_report, fbeta_score #To evaluate our model\n",
    "from sklearn.linear_model import LinearRegression\n",
    "from lightgbm import LGBMRegressor, LGBMClassifier\n",
    "from sklearn.linear_model import LogisticRegression\n",
    "import xgboost as xgb\n",
    "import pandas as pd\n",
    "import numpy as np\n",
    "import matplotlib.pyplot as plt \n",
    "import seaborn as sns \n",
    "from sklearn.utils import shuffle\n",
    "from sklearn.model_selection import train_test_split \n",
    "import pandas_profiling"
   ]
  },
  {
   "cell_type": "code",
   "execution_count": 19,
   "metadata": {
    "execution": {
     "iopub.execute_input": "2020-12-23T08:36:30.869572Z",
     "iopub.status.busy": "2020-12-23T08:36:30.868879Z",
     "iopub.status.idle": "2020-12-23T08:36:31.124409Z",
     "shell.execute_reply": "2020-12-23T08:36:31.123807Z"
    },
    "papermill": {
     "duration": 0.287378,
     "end_time": "2020-12-23T08:36:31.124535",
     "exception": false,
     "start_time": "2020-12-23T08:36:30.837157",
     "status": "completed"
    },
    "tags": []
   },
   "outputs": [],
   "source": [
    "m = RandomForestClassifier(n_estimators=100, n_jobs=-1)\n",
    "m.fit(X_train,y_train)"
   ]
  },
  {
   "cell_type": "code",
   "execution_count": 33,
   "metadata": {},
   "outputs": [
    {
     "data": {
      "text/plain": [
       "LGBMClassifier(cat_smooth=87, colsample_bytree=0.27, learning_rate=0.05,\n",
       "               max_depth=100, metric='auc', min_child_samples=216,\n",
       "               n_estimators=20000, num_leaves=100, random_state=48,\n",
       "               reg_alpha=6.010538011450937, reg_lambda=0.031702113663443346,\n",
       "               subsample=0.6)"
      ]
     },
     "execution_count": 33,
     "metadata": {},
     "output_type": "execute_result"
    }
   ],
   "source": [
    "params={'metric': 'auc', 'reg_alpha': 6.010538011450937, 'reg_lambda': 0.031702113663443346, 'colsample_bytree': 0.27,\n",
    "   'subsample': 0.6, 'learning_rate': 0.05, 'max_depth': 100, 'num_leaves': 100, 'min_child_samples': 216,\n",
    "   'cat_smooth': 87, 'random_state': 48,'n_estimators': 20000}\n",
    "m = LGBMClassifier(**params)\n",
    "m.fit(X_train,y_train)"
   ]
  },
  {
   "cell_type": "code",
   "execution_count": 33,
   "metadata": {},
   "outputs": [
    {
     "name": "stdout",
     "output_type": "stream",
     "text": [
      "1 0.8949034185577046\n",
      "2 0.8967158234858912\n",
      "3 0.8932459003830435\n",
      "4 0.8966598990207184\n",
      "5 0.8926213669392072\n"
     ]
    }
   ],
   "source": [
    "params={'metric': 'auc', 'reg_alpha': 6.010538011450937, 'reg_lambda': 0.031702113663443346, 'colsample_bytree': 0.27,\n",
    "   'subsample': 0.6, 'learning_rate': 0.05, 'max_depth': 100, 'num_leaves': 100, 'min_child_samples': 216,\n",
    "   'cat_smooth': 87, 'random_state': 48,'n_estimators': 20000}\n",
    "preds = np.zeros(len(to_test))        \n",
    "kf = StratifiedKFold(n_splits=5,random_state=48,shuffle=True) #As we can see the data is unbalanced that's why I'll use StratifiedKFold to split data: Don't want all zeros in a split                 \n",
    "auc=[]   # list contains AUC for each fold  \n",
    "n=0   \n",
    "for trn_idx, test_idx in kf.split(X_train,y_train):\n",
    "    X_tr,X_val=X_train.iloc[trn_idx],X_train.iloc[test_idx]\n",
    "    y_tr,y_val=y_train.iloc[trn_idx],y_train.iloc[test_idx]\n",
    "    model = LGBMClassifier(**params) \n",
    "    model.fit(X_tr,y_tr,eval_set=[(X_val,y_val)],early_stopping_rounds=100,verbose=False) \n",
    "    preds+=model.predict_proba(to_test)[:, 1]/kf.n_splits \n",
    "    auc.append(roc_auc_score(y_val, model.predict_proba(X_val)[:, 1])) \n",
    "    print(n+1,auc[n])                                                                                       \n",
    "    n+=1    "
   ]
  },
  {
   "cell_type": "code",
   "execution_count": 31,
   "metadata": {},
   "outputs": [
    {
     "data": {
      "text/plain": [
       "array([[0.61792316, 0.38207684],\n",
       "       [0.76915491, 0.23084509],\n",
       "       [0.74210975, 0.25789025],\n",
       "       ...,\n",
       "       [0.61555557, 0.38444443],\n",
       "       [0.64824802, 0.35175198],\n",
       "       [0.64055191, 0.35944809]])"
      ]
     },
     "execution_count": 31,
     "metadata": {},
     "output_type": "execute_result"
    }
   ],
   "source": [
    "model.predict_proba(to_test[:len(to_test)])"
   ]
  },
  {
   "cell_type": "markdown",
   "metadata": {
    "papermill": {
     "duration": 0.027032,
     "end_time": "2020-12-23T08:36:31.629529",
     "exception": false,
     "start_time": "2020-12-23T08:36:31.602497",
     "status": "completed"
    },
    "tags": []
   },
   "source": [
    "## Validate"
   ]
  },
  {
   "cell_type": "code",
   "execution_count": 21,
   "metadata": {
    "execution": {
     "iopub.execute_input": "2020-12-23T08:36:31.690213Z",
     "iopub.status.busy": "2020-12-23T08:36:31.689361Z",
     "iopub.status.idle": "2020-12-23T08:36:31.692232Z",
     "shell.execute_reply": "2020-12-23T08:36:31.691623Z"
    },
    "papermill": {
     "duration": 0.035003,
     "end_time": "2020-12-23T08:36:31.692354",
     "exception": false,
     "start_time": "2020-12-23T08:36:31.657351",
     "status": "completed"
    },
    "tags": []
   },
   "outputs": [],
   "source": [
    "from sklearn.metrics import accuracy_score"
   ]
  },
  {
   "cell_type": "code",
   "execution_count": 34,
   "metadata": {
    "execution": {
     "iopub.execute_input": "2020-12-23T08:36:31.759344Z",
     "iopub.status.busy": "2020-12-23T08:36:31.758376Z",
     "iopub.status.idle": "2020-12-23T08:36:31.868191Z",
     "shell.execute_reply": "2020-12-23T08:36:31.867123Z"
    },
    "papermill": {
     "duration": 0.145051,
     "end_time": "2020-12-23T08:36:31.868381",
     "exception": false,
     "start_time": "2020-12-23T08:36:31.723330",
     "status": "completed"
    },
    "tags": []
   },
   "outputs": [],
   "source": [
    "y_pred=m.predict(X_valid)"
   ]
  },
  {
   "cell_type": "code",
   "execution_count": 37,
   "metadata": {
    "execution": {
     "iopub.execute_input": "2020-12-23T08:36:31.946860Z",
     "iopub.status.busy": "2020-12-23T08:36:31.945807Z",
     "iopub.status.idle": "2020-12-23T08:36:31.951953Z",
     "shell.execute_reply": "2020-12-23T08:36:31.951412Z"
    },
    "papermill": {
     "duration": 0.040289,
     "end_time": "2020-12-23T08:36:31.952068",
     "exception": false,
     "start_time": "2020-12-23T08:36:31.911779",
     "status": "completed"
    },
    "tags": []
   },
   "outputs": [
    {
     "data": {
      "text/plain": [
       "0.8450333333333333"
      ]
     },
     "execution_count": 37,
     "metadata": {},
     "output_type": "execute_result"
    }
   ],
   "source": [
    "accuracy_score(y_valid, y_pred)"
   ]
  },
  {
   "cell_type": "markdown",
   "metadata": {
    "papermill": {
     "duration": 0.028018,
     "end_time": "2020-12-23T08:36:32.009177",
     "exception": false,
     "start_time": "2020-12-23T08:36:31.981159",
     "status": "completed"
    },
    "tags": []
   },
   "source": [
    "# Test Dataset"
   ]
  },
  {
   "cell_type": "code",
   "execution_count": 32,
   "metadata": {
    "execution": {
     "iopub.execute_input": "2020-12-23T08:36:32.069900Z",
     "iopub.status.busy": "2020-12-23T08:36:32.068915Z",
     "iopub.status.idle": "2020-12-23T08:36:32.127397Z",
     "shell.execute_reply": "2020-12-23T08:36:32.127983Z"
    },
    "papermill": {
     "duration": 0.090489,
     "end_time": "2020-12-23T08:36:32.128138",
     "exception": false,
     "start_time": "2020-12-23T08:36:32.037649",
     "status": "completed"
    },
    "tags": []
   },
   "outputs": [],
   "source": [
    "to_test = TabularPandas(df_test, procs, cat, cont)\n",
    "to_test = to_test[:len(to_test)]"
   ]
  },
  {
   "cell_type": "code",
   "execution_count": null,
   "metadata": {
    "execution": {
     "iopub.execute_input": "2020-12-23T08:36:32.189277Z",
     "iopub.status.busy": "2020-12-23T08:36:32.188236Z",
     "iopub.status.idle": "2020-12-23T08:36:32.302246Z",
     "shell.execute_reply": "2020-12-23T08:36:32.301556Z"
    },
    "papermill": {
     "duration": 0.145595,
     "end_time": "2020-12-23T08:36:32.302367",
     "exception": false,
     "start_time": "2020-12-23T08:36:32.156772",
     "status": "completed"
    },
    "tags": []
   },
   "outputs": [],
   "source": [
    "predicted_result = model.predict(to_test.xs) # remove reduntant columns (training did not use this col)"
   ]
  },
  {
   "cell_type": "code",
   "execution_count": 34,
   "metadata": {
    "execution": {
     "iopub.execute_input": "2020-12-23T08:36:32.367643Z",
     "iopub.status.busy": "2020-12-23T08:36:32.366979Z",
     "iopub.status.idle": "2020-12-23T08:36:32.678232Z",
     "shell.execute_reply": "2020-12-23T08:36:32.677398Z"
    },
    "papermill": {
     "duration": 0.347292,
     "end_time": "2020-12-23T08:36:32.678373",
     "exception": false,
     "start_time": "2020-12-23T08:36:32.331081",
     "status": "completed"
    },
    "tags": []
   },
   "outputs": [
    {
     "data": {
      "text/html": [
       "<div>\n",
       "<style scoped>\n",
       "    .dataframe tbody tr th:only-of-type {\n",
       "        vertical-align: middle;\n",
       "    }\n",
       "\n",
       "    .dataframe tbody tr th {\n",
       "        vertical-align: top;\n",
       "    }\n",
       "\n",
       "    .dataframe thead th {\n",
       "        text-align: right;\n",
       "    }\n",
       "</style>\n",
       "<table border=\"1\" class=\"dataframe\">\n",
       "  <thead>\n",
       "    <tr style=\"text-align: right;\">\n",
       "      <th></th>\n",
       "      <th>id</th>\n",
       "      <th>target</th>\n",
       "    </tr>\n",
       "  </thead>\n",
       "  <tbody>\n",
       "    <tr>\n",
       "      <th>0</th>\n",
       "      <td>5</td>\n",
       "      <td>0.323795</td>\n",
       "    </tr>\n",
       "    <tr>\n",
       "      <th>1</th>\n",
       "      <td>6</td>\n",
       "      <td>0.197997</td>\n",
       "    </tr>\n",
       "    <tr>\n",
       "      <th>2</th>\n",
       "      <td>8</td>\n",
       "      <td>0.260533</td>\n",
       "    </tr>\n",
       "    <tr>\n",
       "      <th>3</th>\n",
       "      <td>9</td>\n",
       "      <td>0.330279</td>\n",
       "    </tr>\n",
       "    <tr>\n",
       "      <th>4</th>\n",
       "      <td>11</td>\n",
       "      <td>0.223772</td>\n",
       "    </tr>\n",
       "  </tbody>\n",
       "</table>\n",
       "</div>"
      ],
      "text/plain": [
       "   id    target\n",
       "0   5  0.323795\n",
       "1   6  0.197997\n",
       "2   8  0.260533\n",
       "3   9  0.330279\n",
       "4  11  0.223772"
      ]
     },
     "execution_count": 34,
     "metadata": {},
     "output_type": "execute_result"
    }
   ],
   "source": [
    "output= pd.DataFrame({'id':df_test.id, 'target': preds})\n",
    "output.to_csv('../output/fastai.csv', index=False)\n",
    "output.head()"
   ]
  },
  {
   "cell_type": "code",
   "execution_count": 30,
   "metadata": {},
   "outputs": [
    {
     "data": {
      "text/html": [
       "<div>\n",
       "<style scoped>\n",
       "    .dataframe tbody tr th:only-of-type {\n",
       "        vertical-align: middle;\n",
       "    }\n",
       "\n",
       "    .dataframe tbody tr th {\n",
       "        vertical-align: top;\n",
       "    }\n",
       "\n",
       "    .dataframe thead th {\n",
       "        text-align: right;\n",
       "    }\n",
       "</style>\n",
       "<table border=\"1\" class=\"dataframe\">\n",
       "  <thead>\n",
       "    <tr style=\"text-align: right;\">\n",
       "      <th></th>\n",
       "      <th>id</th>\n",
       "      <th>target</th>\n",
       "    </tr>\n",
       "  </thead>\n",
       "  <tbody>\n",
       "    <tr>\n",
       "      <th>0</th>\n",
       "      <td>5</td>\n",
       "      <td>0</td>\n",
       "    </tr>\n",
       "    <tr>\n",
       "      <th>1</th>\n",
       "      <td>6</td>\n",
       "      <td>0</td>\n",
       "    </tr>\n",
       "    <tr>\n",
       "      <th>2</th>\n",
       "      <td>8</td>\n",
       "      <td>0</td>\n",
       "    </tr>\n",
       "    <tr>\n",
       "      <th>3</th>\n",
       "      <td>9</td>\n",
       "      <td>0</td>\n",
       "    </tr>\n",
       "    <tr>\n",
       "      <th>4</th>\n",
       "      <td>11</td>\n",
       "      <td>0</td>\n",
       "    </tr>\n",
       "    <tr>\n",
       "      <th>...</th>\n",
       "      <td>...</td>\n",
       "      <td>...</td>\n",
       "    </tr>\n",
       "    <tr>\n",
       "      <th>199995</th>\n",
       "      <td>499983</td>\n",
       "      <td>1</td>\n",
       "    </tr>\n",
       "    <tr>\n",
       "      <th>199996</th>\n",
       "      <td>499984</td>\n",
       "      <td>0</td>\n",
       "    </tr>\n",
       "    <tr>\n",
       "      <th>199997</th>\n",
       "      <td>499987</td>\n",
       "      <td>1</td>\n",
       "    </tr>\n",
       "    <tr>\n",
       "      <th>199998</th>\n",
       "      <td>499994</td>\n",
       "      <td>0</td>\n",
       "    </tr>\n",
       "    <tr>\n",
       "      <th>199999</th>\n",
       "      <td>499998</td>\n",
       "      <td>0</td>\n",
       "    </tr>\n",
       "  </tbody>\n",
       "</table>\n",
       "<p>200000 rows × 2 columns</p>\n",
       "</div>"
      ],
      "text/plain": [
       "            id  target\n",
       "0            5       0\n",
       "1            6       0\n",
       "2            8       0\n",
       "3            9       0\n",
       "4           11       0\n",
       "...        ...     ...\n",
       "199995  499983       1\n",
       "199996  499984       0\n",
       "199997  499987       1\n",
       "199998  499994       0\n",
       "199999  499998       0\n",
       "\n",
       "[200000 rows x 2 columns]"
      ]
     },
     "execution_count": 30,
     "metadata": {},
     "output_type": "execute_result"
    }
   ],
   "source": [
    "output"
   ]
  },
  {
   "cell_type": "code",
   "execution_count": 31,
   "metadata": {},
   "outputs": [
    {
     "data": {
      "text/plain": [
       "            id  cat0  cat1  cat2  cat3  cat4  cat5  cat6  cat7  cat8  cat9  \\\n",
       "0            5     1     6     1     1     6    34     1     9    24     1   \n",
       "1            6     1     8     3     1     5     3     8    32    52     1   \n",
       "2            8     1    14     3     1     6     3     1     9    29     1   \n",
       "3            9     2    12     3     1     6    34     1    31    24     1   \n",
       "4           11     1     6     1     2     6    34     1     9    47     1   \n",
       "...        ...   ...   ...   ...   ...   ...   ...   ...   ...   ...   ...   \n",
       "199995  499983     1    14     1     4     6    34     1     7    24     1   \n",
       "199996  499984     2     9     1     2     5    34     1    20    56     5   \n",
       "199997  499987     1    12     4     1     8    34     1    15    48     1   \n",
       "199998  499994     1    11     1     3     6    34     1    44    39     1   \n",
       "199999  499998     1    11     1     1     5    34     3    16    39     8   \n",
       "\n",
       "        cat10  cat11  cat12  cat13  cat14  cat15  cat16  cat17  cat18  \\\n",
       "0         250      1      1      1      1      2      4      4      2   \n",
       "1         270      1      1      1      2      4      2      4      2   \n",
       "2         122      1      1      1      2      2      4      4      2   \n",
       "3         163      1      1      1      1      2      4      2      2   \n",
       "4         174      1      1      1      1      4      4      4      2   \n",
       "...       ...    ...    ...    ...    ...    ...    ...    ...    ...   \n",
       "199995     76      1      1      1      2      4      2      3      2   \n",
       "199996    181      1      1      1      2      2      4      4      2   \n",
       "199997    172      1      1      1      2      4      2      4      2   \n",
       "199998    163      1      1      1      1      2      4      4      2   \n",
       "199999     70      1      2      1      1      2      2      2      2   \n",
       "\n",
       "           cont0     cont1     cont2     cont3     cont4     cont5     cont6  \\\n",
       "0       0.708120  0.735690  0.578366  0.723154  0.228037  0.356227  0.551249   \n",
       "1       0.611637  0.313703  0.928885  0.516602  0.600169  0.795224  0.248987   \n",
       "2       0.456289  0.448201  0.424876  0.344729  0.242073  0.270632  0.746740   \n",
       "3       0.338692  0.666092  0.598943  0.561971  0.806347  0.735983  0.538724   \n",
       "4       0.631671  0.772229  0.479572  0.767745  0.252454  0.354810  0.178920   \n",
       "...          ...       ...       ...       ...       ...       ...       ...   \n",
       "199995  0.451496  0.361426  0.351946  0.327670  0.205547  0.679195  0.485967   \n",
       "199996  0.862988  0.551106  0.628843  0.677765  0.624935  0.555306  0.242424   \n",
       "199997  0.463067  0.812384  0.803348  0.324762  0.665624  0.488447  0.853213   \n",
       "199998  0.519671  0.811282  0.820635  0.561449  0.797434  0.555089  0.746532   \n",
       "199999  0.498328  0.336168  0.270483  0.581868  0.218993  0.553284  0.565213   \n",
       "\n",
       "           cont7     cont8     cont9    cont10  \n",
       "0       0.655693  0.598331  0.359987  0.947489  \n",
       "1       0.654614  0.347944  0.565520  0.388580  \n",
       "2       0.335590  0.341238  0.252289  0.411592  \n",
       "3       0.381566  0.481660  0.348514  0.325723  \n",
       "4       0.763479  0.562491  0.466261  0.585781  \n",
       "...          ...       ...       ...       ...  \n",
       "199995  0.319130  0.520681  0.519545  0.427119  \n",
       "199996  0.700829  0.531728  0.528427  0.922645  \n",
       "199997  0.578641  0.811941  0.537106  0.531758  \n",
       "199998  0.369986  0.438712  0.715524  0.381978  \n",
       "199999  0.378355  0.547927  0.273595  0.448016  \n",
       "\n",
       "[200000 rows x 31 columns]"
      ]
     },
     "execution_count": 31,
     "metadata": {},
     "output_type": "execute_result"
    }
   ],
   "source": [
    "to_test"
   ]
  },
  {
   "cell_type": "code",
   "execution_count": null,
   "metadata": {},
   "outputs": [],
   "source": []
  }
 ],
 "metadata": {
  "kernelspec": {
   "display_name": "Python 3",
   "language": "python",
   "name": "python3"
  },
  "language_info": {
   "codemirror_mode": {
    "name": "ipython",
    "version": 3
   },
   "file_extension": ".py",
   "mimetype": "text/x-python",
   "name": "python",
   "nbconvert_exporter": "python",
   "pygments_lexer": "ipython3",
   "version": "3.8.4"
  },
  "papermill": {
   "duration": 11.917941,
   "end_time": "2020-12-23T08:36:32.815677",
   "environment_variables": {},
   "exception": null,
   "input_path": "__notebook__.ipynb",
   "output_path": "__notebook__.ipynb",
   "parameters": {},
   "start_time": "2020-12-23T08:36:20.897736",
   "version": "2.1.0"
  }
 },
 "nbformat": 4,
 "nbformat_minor": 4
}
